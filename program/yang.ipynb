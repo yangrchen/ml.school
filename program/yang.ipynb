{
 "cells": [
  {
   "cell_type": "code",
   "execution_count": 1,
   "metadata": {},
   "outputs": [],
   "source": [
    "%load_ext autoreload\n",
    "%autoreload 2\n",
    "%load_ext dotenv\n",
    "%dotenv\n",
    "\n",
    "import json\n",
    "import logging\n",
    "import sys\n",
    "import ipytest\n",
    "from pathlib import Path\n",
    "\n",
    "CODE_FOLDER = Path(\"code\")\n",
    "sys.path.extend([f\"./{CODE_FOLDER}\"])\n",
    "\n",
    "DATA_FILEPATH = \"penguins.csv\"\n",
    "\n",
    "ipytest.autoconfig(raise_on_error=True)\n",
    "logging.getLogger(\"sagemaker.config\").setLevel(logging.ERROR)"
   ]
  },
  {
   "cell_type": "markdown",
   "metadata": {},
   "source": [
    "# Creating Configuration"
   ]
  },
  {
   "cell_type": "code",
   "execution_count": 2,
   "metadata": {},
   "outputs": [],
   "source": [
    "import os\n",
    "import sagemaker\n",
    "from sagemaker.workflow.pipeline_context import (\n",
    "    LocalPipelineSession,\n",
    "    PipelineSession,\n",
    "    Session,\n",
    ")\n",
    "from typing import TypedDict\n",
    "import os\n",
    "\n",
    "BUCKET = os.environ[\"BUCKET\"]\n",
    "ROLE = os.environ[\"ROLE\"]\n",
    "\n",
    "\n",
    "class SessionConfig(TypedDict):\n",
    "    session: Session\n",
    "    instance_type: str\n",
    "    image: str | None\n",
    "    framework_version: str\n",
    "    py_version: str\n",
    "\n",
    "\n",
    "class CometConfig(TypedDict):\n",
    "    api_key: str | None\n",
    "    project_name: str | None\n",
    "\n",
    "\n",
    "class ConfigDict(TypedDict):\n",
    "    bucket: str\n",
    "    session_config: SessionConfig\n",
    "    comet_config: CometConfig\n",
    "\n",
    "\n",
    "class Configuration:\n",
    "    def __init__(\n",
    "        self,\n",
    "        bucket: str,\n",
    "        is_local: bool = True,\n",
    "        instance_type: str = \"ml.m5.xlarge\",\n",
    "        image: str = \"sagemaker-tensorflow-toolkit-local\",\n",
    "    ) -> None:\n",
    "        self._bucket = bucket\n",
    "        self._is_local = is_local\n",
    "        self.instance_type = instance_type\n",
    "        self.image = image\n",
    "\n",
    "    @property\n",
    "    def bucket(self):\n",
    "        return self._bucket\n",
    "\n",
    "    @property\n",
    "    def is_local(self):\n",
    "        return self._is_local\n",
    "\n",
    "    @is_local.setter\n",
    "    def is_local(self, val):\n",
    "        if not isinstance(val, bool):\n",
    "            raise TypeError(\"Value of is_local should be bool.\")\n",
    "        self._is_local = val\n",
    "\n",
    "    def load(self) -> ConfigDict:\n",
    "        return {\n",
    "            \"bucket\": self.bucket,\n",
    "            \"session_config\": {\n",
    "                \"session\": (\n",
    "                    LocalPipelineSession(default_bucket=os.environ[\"BUCKET\"])\n",
    "                    if self.is_local\n",
    "                    else PipelineSession(default_bucket=os.environ[\"BUCKET\"])\n",
    "                ),\n",
    "                \"instance_type\": self.instance_type,\n",
    "                \"image\": self.image if self.is_local else None,\n",
    "                \"framework_version\": \"2.12\",\n",
    "                \"py_version\": \"py310\",\n",
    "            },\n",
    "            \"comet_config\": {\n",
    "                \"api_key\": os.environ.get(\"COMET_API_KEY\", None),\n",
    "                \"project_name\": os.environ.get(\"COMET_PROJECT_NAME\", None),\n",
    "            },\n",
    "        }\n",
    "\n",
    "LOCAL_MODE = False\n",
    "config = Configuration(bucket=os.environ[\"BUCKET\"], is_local=LOCAL_MODE).load()"
   ]
  },
  {
   "cell_type": "code",
   "execution_count": 3,
   "metadata": {},
   "outputs": [],
   "source": [
    "import boto3\n",
    "\n",
    "S3_LOCATION = f\"s3://{config['bucket']}/penguins\"\n",
    "\n",
    "sagemaker_session = sagemaker.session.Session()\n",
    "sagemaker_client = boto3.client(\"sagemaker\")\n",
    "iam_client = boto3.client(\"iam\")\n",
    "region = boto3.Session().region_name"
   ]
  },
  {
   "cell_type": "markdown",
   "metadata": {},
   "source": [
    "# Session 2: Exploratory Data Analysis"
   ]
  },
  {
   "cell_type": "code",
   "execution_count": 4,
   "metadata": {},
   "outputs": [],
   "source": [
    "import polars as pl"
   ]
  },
  {
   "cell_type": "code",
   "execution_count": 5,
   "metadata": {},
   "outputs": [],
   "source": [
    "import numpy as np\n",
    "import pandas as pd\n",
    "\n",
    "penguins = pl.read_csv(\n",
    "    DATA_FILEPATH,\n",
    "    dtypes={\n",
    "        \"species\": pl.Utf8,\n",
    "        \"island\": pl.Utf8,\n",
    "        \"culmen_length_mm\": pl.Float32,\n",
    "        \"flipper_length_mm\": pl.Float32,\n",
    "        \"body_mass_g\": pl.Float32,\n",
    "        \"sex\": pl.Utf8,\n",
    "    },\n",
    "    null_values=[\"NA\"],\n",
    ")"
   ]
  },
  {
   "cell_type": "code",
   "execution_count": 6,
   "metadata": {},
   "outputs": [
    {
     "data": {
      "text/html": [
       "<div><style>\n",
       ".dataframe > thead > tr,\n",
       ".dataframe > tbody > tr {\n",
       "  text-align: right;\n",
       "  white-space: pre-wrap;\n",
       "}\n",
       "</style>\n",
       "<small>shape: (9, 8)</small><table border=\"1\" class=\"dataframe\"><thead><tr><th>statistic</th><th>species</th><th>island</th><th>culmen_length_mm</th><th>culmen_depth_mm</th><th>flipper_length_mm</th><th>body_mass_g</th><th>sex</th></tr><tr><td>str</td><td>str</td><td>str</td><td>f64</td><td>f64</td><td>f64</td><td>f64</td><td>str</td></tr></thead><tbody><tr><td>&quot;count&quot;</td><td>&quot;344&quot;</td><td>&quot;344&quot;</td><td>342.0</td><td>342.0</td><td>342.0</td><td>342.0</td><td>&quot;334&quot;</td></tr><tr><td>&quot;null_count&quot;</td><td>&quot;0&quot;</td><td>&quot;0&quot;</td><td>2.0</td><td>2.0</td><td>2.0</td><td>2.0</td><td>&quot;10&quot;</td></tr><tr><td>&quot;mean&quot;</td><td>null</td><td>null</td><td>43.921928</td><td>17.15117</td><td>200.915207</td><td>4201.754395</td><td>null</td></tr><tr><td>&quot;std&quot;</td><td>null</td><td>null</td><td>5.459584</td><td>1.974793</td><td>14.061713</td><td>801.954529</td><td>null</td></tr><tr><td>&quot;min&quot;</td><td>&quot;Adelie&quot;</td><td>&quot;Biscoe&quot;</td><td>32.099998</td><td>13.1</td><td>172.0</td><td>2700.0</td><td>&quot;.&quot;</td></tr><tr><td>&quot;25%&quot;</td><td>null</td><td>null</td><td>39.200001</td><td>15.6</td><td>190.0</td><td>3550.0</td><td>null</td></tr><tr><td>&quot;50%&quot;</td><td>null</td><td>null</td><td>44.5</td><td>17.3</td><td>197.0</td><td>4050.0</td><td>null</td></tr><tr><td>&quot;75%&quot;</td><td>null</td><td>null</td><td>48.5</td><td>18.7</td><td>213.0</td><td>4750.0</td><td>null</td></tr><tr><td>&quot;max&quot;</td><td>&quot;Gentoo&quot;</td><td>&quot;Torgersen&quot;</td><td>59.599998</td><td>21.5</td><td>231.0</td><td>6300.0</td><td>&quot;MALE&quot;</td></tr></tbody></table></div>"
      ],
      "text/plain": [
       "shape: (9, 8)\n",
       "┌────────────┬─────────┬───────────┬──────────────┬─────────────┬─────────────┬─────────────┬──────┐\n",
       "│ statistic  ┆ species ┆ island    ┆ culmen_lengt ┆ culmen_dept ┆ flipper_len ┆ body_mass_g ┆ sex  │\n",
       "│ ---        ┆ ---     ┆ ---       ┆ h_mm         ┆ h_mm        ┆ gth_mm      ┆ ---         ┆ ---  │\n",
       "│ str        ┆ str     ┆ str       ┆ ---          ┆ ---         ┆ ---         ┆ f64         ┆ str  │\n",
       "│            ┆         ┆           ┆ f64          ┆ f64         ┆ f64         ┆             ┆      │\n",
       "╞════════════╪═════════╪═══════════╪══════════════╪═════════════╪═════════════╪═════════════╪══════╡\n",
       "│ count      ┆ 344     ┆ 344       ┆ 342.0        ┆ 342.0       ┆ 342.0       ┆ 342.0       ┆ 334  │\n",
       "│ null_count ┆ 0       ┆ 0         ┆ 2.0          ┆ 2.0         ┆ 2.0         ┆ 2.0         ┆ 10   │\n",
       "│ mean       ┆ null    ┆ null      ┆ 43.921928    ┆ 17.15117    ┆ 200.915207  ┆ 4201.754395 ┆ null │\n",
       "│ std        ┆ null    ┆ null      ┆ 5.459584     ┆ 1.974793    ┆ 14.061713   ┆ 801.954529  ┆ null │\n",
       "│ min        ┆ Adelie  ┆ Biscoe    ┆ 32.099998    ┆ 13.1        ┆ 172.0       ┆ 2700.0      ┆ .    │\n",
       "│ 25%        ┆ null    ┆ null      ┆ 39.200001    ┆ 15.6        ┆ 190.0       ┆ 3550.0      ┆ null │\n",
       "│ 50%        ┆ null    ┆ null      ┆ 44.5         ┆ 17.3        ┆ 197.0       ┆ 4050.0      ┆ null │\n",
       "│ 75%        ┆ null    ┆ null      ┆ 48.5         ┆ 18.7        ┆ 213.0       ┆ 4750.0      ┆ null │\n",
       "│ max        ┆ Gentoo  ┆ Torgersen ┆ 59.599998    ┆ 21.5        ┆ 231.0       ┆ 6300.0      ┆ MALE │\n",
       "└────────────┴─────────┴───────────┴──────────────┴─────────────┴─────────────┴─────────────┴──────┘"
      ]
     },
     "execution_count": 6,
     "metadata": {},
     "output_type": "execute_result"
    }
   ],
   "source": [
    "penguins.describe()"
   ]
  },
  {
   "cell_type": "code",
   "execution_count": 7,
   "metadata": {},
   "outputs": [
    {
     "name": "stdout",
     "output_type": "stream",
     "text": [
      "shape: (3, 2)\n",
      "┌───────────┬─────┐\n",
      "│ species   ┆ len │\n",
      "│ ---       ┆ --- │\n",
      "│ str       ┆ u32 │\n",
      "╞═══════════╪═════╡\n",
      "│ Adelie    ┆ 152 │\n",
      "│ Chinstrap ┆ 68  │\n",
      "│ Gentoo    ┆ 124 │\n",
      "└───────────┴─────┘\n",
      "\n",
      "shape: (3, 2)\n",
      "┌───────────┬─────┐\n",
      "│ island    ┆ len │\n",
      "│ ---       ┆ --- │\n",
      "│ str       ┆ u32 │\n",
      "╞═══════════╪═════╡\n",
      "│ Torgersen ┆ 52  │\n",
      "│ Biscoe    ┆ 168 │\n",
      "│ Dream     ┆ 124 │\n",
      "└───────────┴─────┘\n",
      "\n",
      "shape: (4, 2)\n",
      "┌────────┬─────┐\n",
      "│ sex    ┆ len │\n",
      "│ ---    ┆ --- │\n",
      "│ str    ┆ u32 │\n",
      "╞════════╪═════╡\n",
      "│ MALE   ┆ 168 │\n",
      "│ FEMALE ┆ 165 │\n",
      "│ null   ┆ 10  │\n",
      "│ .      ┆ 1   │\n",
      "└────────┴─────┘\n"
     ]
    }
   ],
   "source": [
    "species_dist = penguins.group_by(pl.col(\"species\"), maintain_order=True).agg(pl.len())\n",
    "island_dist = penguins.group_by(pl.col(\"island\"), maintain_order=True).agg(pl.len())\n",
    "sex_dist = penguins.group_by(pl.col(\"sex\"), maintain_order=True).agg(pl.len())\n",
    "\n",
    "print(species_dist, end=\"\\n\\n\")\n",
    "print(island_dist, end=\"\\n\\n\")\n",
    "print(sex_dist)"
   ]
  },
  {
   "cell_type": "code",
   "execution_count": 8,
   "metadata": {},
   "outputs": [
    {
     "data": {
      "text/html": [
       "<div><style>\n",
       ".dataframe > thead > tr,\n",
       ".dataframe > tbody > tr {\n",
       "  text-align: right;\n",
       "  white-space: pre-wrap;\n",
       "}\n",
       "</style>\n",
       "<small>shape: (3, 1)</small><table border=\"1\" class=\"dataframe\"><thead><tr><th>sex</th></tr><tr><td>struct[2]</td></tr></thead><tbody><tr><td>{&quot;FEMALE&quot;,165}</td></tr><tr><td>{&quot;MALE&quot;,168}</td></tr><tr><td>{null,11}</td></tr></tbody></table></div>"
      ],
      "text/plain": [
       "shape: (3, 1)\n",
       "┌────────────────┐\n",
       "│ sex            │\n",
       "│ ---            │\n",
       "│ struct[2]      │\n",
       "╞════════════════╡\n",
       "│ {\"FEMALE\",165} │\n",
       "│ {\"MALE\",168}   │\n",
       "│ {null,11}      │\n",
       "└────────────────┘"
      ]
     },
     "execution_count": 8,
     "metadata": {},
     "output_type": "execute_result"
    }
   ],
   "source": [
    "penguins = penguins.with_columns(sex=pl.col(\"sex\").replace(\".\", None))\n",
    "\n",
    "penguins.select(pl.col(\"sex\").value_counts())"
   ]
  },
  {
   "cell_type": "code",
   "execution_count": 9,
   "metadata": {},
   "outputs": [
    {
     "data": {
      "text/html": [
       "<div><style>\n",
       ".dataframe > thead > tr,\n",
       ".dataframe > tbody > tr {\n",
       "  text-align: right;\n",
       "  white-space: pre-wrap;\n",
       "}\n",
       "</style>\n",
       "<small>shape: (1, 7)</small><table border=\"1\" class=\"dataframe\"><thead><tr><th>species</th><th>island</th><th>culmen_length_mm</th><th>culmen_depth_mm</th><th>flipper_length_mm</th><th>body_mass_g</th><th>sex</th></tr><tr><td>u32</td><td>u32</td><td>u32</td><td>u32</td><td>u32</td><td>u32</td><td>u32</td></tr></thead><tbody><tr><td>0</td><td>0</td><td>2</td><td>2</td><td>2</td><td>2</td><td>11</td></tr></tbody></table></div>"
      ],
      "text/plain": [
       "shape: (1, 7)\n",
       "┌─────────┬────────┬──────────────────┬─────────────────┬───────────────────┬─────────────┬─────┐\n",
       "│ species ┆ island ┆ culmen_length_mm ┆ culmen_depth_mm ┆ flipper_length_mm ┆ body_mass_g ┆ sex │\n",
       "│ ---     ┆ ---    ┆ ---              ┆ ---             ┆ ---               ┆ ---         ┆ --- │\n",
       "│ u32     ┆ u32    ┆ u32              ┆ u32             ┆ u32               ┆ u32         ┆ u32 │\n",
       "╞═════════╪════════╪══════════════════╪═════════════════╪═══════════════════╪═════════════╪═════╡\n",
       "│ 0       ┆ 0      ┆ 2                ┆ 2               ┆ 2                 ┆ 2           ┆ 11  │\n",
       "└─────────┴────────┴──────────────────┴─────────────────┴───────────────────┴─────────────┴─────┘"
      ]
     },
     "execution_count": 9,
     "metadata": {},
     "output_type": "execute_result"
    }
   ],
   "source": [
    "penguins.null_count()"
   ]
  },
  {
   "cell_type": "code",
   "execution_count": 10,
   "metadata": {},
   "outputs": [],
   "source": [
    "# Simple imputer: most frequent value\n",
    "penguins = penguins.with_columns(pl.all().fill_null(pl.all().mode()))"
   ]
  },
  {
   "cell_type": "code",
   "execution_count": 11,
   "metadata": {},
   "outputs": [
    {
     "data": {
      "text/html": [
       "<div><style>\n",
       ".dataframe > thead > tr,\n",
       ".dataframe > tbody > tr {\n",
       "  text-align: right;\n",
       "  white-space: pre-wrap;\n",
       "}\n",
       "</style>\n",
       "<small>shape: (1, 7)</small><table border=\"1\" class=\"dataframe\"><thead><tr><th>species</th><th>island</th><th>culmen_length_mm</th><th>culmen_depth_mm</th><th>flipper_length_mm</th><th>body_mass_g</th><th>sex</th></tr><tr><td>u32</td><td>u32</td><td>u32</td><td>u32</td><td>u32</td><td>u32</td><td>u32</td></tr></thead><tbody><tr><td>0</td><td>0</td><td>0</td><td>0</td><td>0</td><td>0</td><td>0</td></tr></tbody></table></div>"
      ],
      "text/plain": [
       "shape: (1, 7)\n",
       "┌─────────┬────────┬──────────────────┬─────────────────┬───────────────────┬─────────────┬─────┐\n",
       "│ species ┆ island ┆ culmen_length_mm ┆ culmen_depth_mm ┆ flipper_length_mm ┆ body_mass_g ┆ sex │\n",
       "│ ---     ┆ ---    ┆ ---              ┆ ---             ┆ ---               ┆ ---         ┆ --- │\n",
       "│ u32     ┆ u32    ┆ u32              ┆ u32             ┆ u32               ┆ u32         ┆ u32 │\n",
       "╞═════════╪════════╪══════════════════╪═════════════════╪═══════════════════╪═════════════╪═════╡\n",
       "│ 0       ┆ 0      ┆ 0                ┆ 0               ┆ 0                 ┆ 0           ┆ 0   │\n",
       "└─────────┴────────┴──────────────────┴─────────────────┴───────────────────┴─────────────┴─────┘"
      ]
     },
     "execution_count": 11,
     "metadata": {},
     "output_type": "execute_result"
    }
   ],
   "source": [
    "penguins.null_count()"
   ]
  },
  {
   "cell_type": "markdown",
   "metadata": {},
   "source": [
    "## Computing Robust Z-Score"
   ]
  },
  {
   "cell_type": "code",
   "execution_count": 12,
   "metadata": {},
   "outputs": [
    {
     "data": {
      "text/html": [
       "<div><style>\n",
       ".dataframe > thead > tr,\n",
       ".dataframe > tbody > tr {\n",
       "  text-align: right;\n",
       "  white-space: pre-wrap;\n",
       "}\n",
       "</style>\n",
       "<small>shape: (344,)</small><table border=\"1\" class=\"dataframe\"><thead><tr><th>robust_z_culmen_length_mm</th></tr><tr><td>f32</td></tr></thead><tbody><tr><td>-0.747027</td></tr><tr><td>-0.689005</td></tr><tr><td>-0.572962</td></tr><tr><td>-0.456919</td></tr><tr><td>-1.095155</td></tr><tr><td>&hellip;</td></tr><tr><td>-0.456919</td></tr><tr><td>0.369887</td></tr><tr><td>0.892081</td></tr><tr><td>0.137801</td></tr><tr><td>0.819554</td></tr></tbody></table></div>"
      ],
      "text/plain": [
       "shape: (344,)\n",
       "Series: 'robust_z_culmen_length_mm' [f32]\n",
       "[\n",
       "\t-0.747027\n",
       "\t-0.689005\n",
       "\t-0.572962\n",
       "\t-0.456919\n",
       "\t-1.095155\n",
       "\t…\n",
       "\t-0.456919\n",
       "\t0.369887\n",
       "\t0.892081\n",
       "\t0.137801\n",
       "\t0.819554\n",
       "]"
      ]
     },
     "execution_count": 12,
     "metadata": {},
     "output_type": "execute_result"
    }
   ],
   "source": [
    "def compute_robust_zscore(df: pl.DataFrame, col: str) -> pl.Series:\n",
    "    med_abs_dev = df.select((pl.col(col) - pl.col(col).median()).abs()).median()\n",
    "    k = 0.6745\n",
    "    robust_z = df.select(\n",
    "        (k * (pl.col(col) - pl.col(col).median()) / med_abs_dev).alias(\n",
    "            f\"robust_z_{col}\"\n",
    "        )\n",
    "    ).to_series()\n",
    "\n",
    "    return robust_z\n",
    "\n",
    "\n",
    "culm_length_zscore = compute_robust_zscore(penguins, \"culmen_length_mm\")\n",
    "culm_length_zscore"
   ]
  },
  {
   "cell_type": "code",
   "execution_count": 13,
   "metadata": {},
   "outputs": [
    {
     "name": "stdout",
     "output_type": "stream",
     "text": [
      "shape: (0,)\n",
      "Series: 'robust_z_culmen_length_mm' [f32]\n",
      "[\n",
      "]\n",
      "shape: (0,)\n",
      "Series: 'robust_z_culmen_depth_mm' [f64]\n",
      "[\n",
      "]\n",
      "shape: (0,)\n",
      "Series: 'robust_z_flipper_length_mm' [f32]\n",
      "[\n",
      "]\n",
      "shape: (0,)\n",
      "Series: 'robust_z_body_mass_g' [f32]\n",
      "[\n",
      "]\n"
     ]
    }
   ],
   "source": [
    "for col in penguins.select(pl.col(pl.NUMERIC_DTYPES)).columns:\n",
    "    robust_zscore = compute_robust_zscore(penguins, col)\n",
    "    print(robust_zscore.filter(robust_zscore.abs() > 3))"
   ]
  },
  {
   "cell_type": "markdown",
   "metadata": {},
   "source": [
    "## Exploring Predictive Power"
   ]
  },
  {
   "cell_type": "markdown",
   "metadata": {},
   "source": [
    "Using chi-square test, species does not appear to have an association with sex."
   ]
  },
  {
   "cell_type": "code",
   "execution_count": 14,
   "metadata": {},
   "outputs": [
    {
     "data": {
      "text/plain": [
       "0.9123297194631974"
      ]
     },
     "execution_count": 14,
     "metadata": {},
     "output_type": "execute_result"
    }
   ],
   "source": [
    "from scipy.stats import chi2_contingency\n",
    "\n",
    "penguins_pd = penguins.to_pandas()\n",
    "_, pvalue, *_ = chi2_contingency(pd.crosstab(penguins_pd[\"sex\"], penguins_pd[\"species\"]))\n",
    "pvalue"
   ]
  },
  {
   "cell_type": "markdown",
   "metadata": {},
   "source": [
    "However, species appears to be associated with island."
   ]
  },
  {
   "cell_type": "code",
   "execution_count": 15,
   "metadata": {},
   "outputs": [
    {
     "data": {
      "text/plain": [
       "1.3545738297192517e-63"
      ]
     },
     "execution_count": 15,
     "metadata": {},
     "output_type": "execute_result"
    }
   ],
   "source": [
    "_, pvalue, *_ = chi2_contingency(pd.crosstab(penguins_pd[\"species\"], penguins_pd[\"island\"]))\n",
    "pvalue"
   ]
  },
  {
   "cell_type": "markdown",
   "metadata": {},
   "source": [
    "## Visualizing the Data"
   ]
  },
  {
   "cell_type": "code",
   "execution_count": 16,
   "metadata": {},
   "outputs": [
    {
     "data": {
      "image/png": "[encoded data removed]",
      "text/plain": [
       "<Figure size 1000x1000 with 9 Axes>"
      ]
     },
     "metadata": {},
     "output_type": "display_data"
    }
   ],
   "source": [
    "import matplotlib.pyplot as plt\n",
    "\n",
    "\n",
    "def plot_dist_polars(df: pl.DataFrame, cols: list[str]) -> None:\n",
    "    nrows = len(cols) // 2\n",
    "    ncols = 2 + len(cols) % 2\n",
    "\n",
    "    fig, axs = plt.subplots(nrows, ncols, figsize=(10, 10))\n",
    "    axs = axs.flatten()\n",
    "\n",
    "    for i, col in enumerate(cols):\n",
    "        if df.schema[col] in pl.NUMERIC_DTYPES:\n",
    "            values = df.select(pl.col(col)).to_numpy().flatten()\n",
    "            axs[i].hist(values, bins=20)\n",
    "        else:\n",
    "            dist = df.group_by(pl.col(col), maintain_order=True).agg(pl.len())\n",
    "            cats = dist.select(pl.col(col)).to_numpy().flatten()\n",
    "            values = dist.select(pl.col(\"len\")).to_numpy().flatten()\n",
    "            axs[i].bar(cats, values)\n",
    "        axs[i].set_ylabel(\"Count\")\n",
    "        axs[i].set_title(f\"Distribution of {col}\")\n",
    "        fig.tight_layout()\n",
    "\n",
    "\n",
    "plot_dist_polars(penguins, penguins.columns)"
   ]
  },
  {
   "cell_type": "markdown",
   "metadata": {},
   "source": [
    "# Preprocessing Step"
   ]
  },
  {
   "cell_type": "code",
   "execution_count": 17,
   "metadata": {},
   "outputs": [],
   "source": [
    "(CODE_FOLDER / \"processing\").mkdir(parents=True, exist_ok=True)\n",
    "sys.path.extend([f\"./{CODE_FOLDER}/processing\"])"
   ]
  },
  {
   "cell_type": "code",
   "execution_count": 18,
   "metadata": {},
   "outputs": [
    {
     "name": "stdout",
     "output_type": "stream",
     "text": [
      "Overwriting code/processing/script.py\n"
     ]
    }
   ],
   "source": [
    "%%writefile {CODE_FOLDER}/processing/script.py\n",
    "\n",
    "import os\n",
    "import tarfile\n",
    "import tempfile\n",
    "from pathlib import Path\n",
    "from typing import Tuple\n",
    "\n",
    "import joblib\n",
    "import numpy as np\n",
    "import pandas as pd\n",
    "from sklearn.compose import ColumnTransformer, make_column_selector\n",
    "from sklearn.impute import SimpleImputer\n",
    "from sklearn.model_selection import train_test_split\n",
    "from sklearn.pipeline import make_pipeline\n",
    "from sklearn.preprocessing import OneHotEncoder, OrdinalEncoder, StandardScaler\n",
    "\n",
    "\n",
    "def preprocess(base_dir: str):\n",
    "    df = _read_data_from_input_csv_files(base_dir)\n",
    "\n",
    "    target_transformer = ColumnTransformer(\n",
    "        transformers=[(\"species\", OrdinalEncoder(), [0])]\n",
    "    )\n",
    "\n",
    "    numeric_transformer = make_pipeline(\n",
    "        SimpleImputer(strategy=\"mean\"),\n",
    "        StandardScaler(),\n",
    "    )\n",
    "\n",
    "    categorical_transformer = make_pipeline(\n",
    "        SimpleImputer(strategy=\"most_frequent\"),\n",
    "        OneHotEncoder(),\n",
    "    )\n",
    "\n",
    "    features_transformer = ColumnTransformer(\n",
    "        transformers=[\n",
    "            (\n",
    "                \"numeric\",\n",
    "                numeric_transformer,\n",
    "                make_column_selector(dtype_exclude=\"object\"),\n",
    "            ),\n",
    "            # We exclude the 'sex' feature since we previously\n",
    "            # determined that it does not have predictive power\n",
    "            (\"categorical\", categorical_transformer, [\"island\"]),\n",
    "        ],\n",
    "    )\n",
    "\n",
    "    # Split the data prior to transforms to avoid data leakage\n",
    "    df_train, df_test = _split_data(df)\n",
    "\n",
    "    _save_train_baseline(base_dir, df_train)\n",
    "    _save_test_baseline(base_dir, df_test)\n",
    "\n",
    "    # Only fit target transformer to train set\n",
    "    y_train = target_transformer.fit_transform(\n",
    "        np.array(df_train[\"species\"].values).reshape(-1, 1),\n",
    "    )\n",
    "    y_test = target_transformer.transform(\n",
    "        np.array(df_test[\"species\"].values).reshape(-1, 1),\n",
    "    )\n",
    "\n",
    "    df_train = df_train.drop(\"species\", axis=1)\n",
    "    df_test = df_test.drop(\"species\", axis=1)\n",
    "\n",
    "    # Only fit features transformer to train set\n",
    "    X_train = features_transformer.fit_transform(df_train)\n",
    "    X_test = features_transformer.transform(df_test)\n",
    "\n",
    "    _save_splits(\n",
    "        base_dir,\n",
    "        X_train,\n",
    "        y_train,\n",
    "        X_test,\n",
    "        y_test,\n",
    "    )\n",
    "    _save_model(base_dir, target_transformer, features_transformer)\n",
    "\n",
    "\n",
    "def _read_data_from_input_csv_files(base_dir: str) -> pd.DataFrame:\n",
    "    \"\"\"Read the data from the input CSV files.\n",
    "\n",
    "    This function reads every CSV file available and concatenates \n",
    "    them into a single dataframe.\n",
    "    \"\"\"\n",
    "    input_dir = Path(base_dir) / \"input\"\n",
    "    files = list(input_dir.glob(\"*.csv\"))\n",
    "\n",
    "    if len(files) == 0:\n",
    "        message = f\"There are no CSV files in {input_dir.as_posix()}/\"\n",
    "        raise ValueError(message)\n",
    "\n",
    "    raw_data = [pd.read_csv(file) for file in files]\n",
    "    df = pd.concat(raw_data)\n",
    "\n",
    "    # Shuffle the data\n",
    "    return df.sample(frac=1, random_state=42)\n",
    "\n",
    "\n",
    "def _split_data(df: pd.DataFrame) -> Tuple[pd.DataFrame, pd.DataFrame]:\n",
    "    \"\"\"Split the data into train and test. Cross-validation will be used.\"\"\"\n",
    "    train, test = train_test_split(df, test_size=0.2, stratify=df[\"species\"])\n",
    "\n",
    "    return train, test\n",
    "\n",
    "\n",
    "def _save_train_baseline(base_dir: str, df_train: pd.DataFrame) -> None:\n",
    "    \"\"\"Save the untransformed training data to disk.\n",
    "\n",
    "    We will need the training data to compute a baseline to\n",
    "    determine the quality of the data that the model receives when deployed.\n",
    "    \"\"\"\n",
    "    baseline_path = Path(base_dir) / \"train-baseline\"\n",
    "    baseline_path.mkdir(parents=True, exist_ok=True)\n",
    "\n",
    "    df = df_train.copy().dropna()\n",
    "\n",
    "    df = df.drop(\"species\", axis=1)\n",
    "\n",
    "    df.to_csv(baseline_path / \"train-baseline.csv\", header=True, index=False)\n",
    "\n",
    "\n",
    "def _save_test_baseline(base_dir: str, df_test: pd.DataFrame):\n",
    "    \"\"\"Save the untransformed test data to disk.\n",
    "    \n",
    "    We will need the test data to compute a baseline to determine the quality\n",
    "    of the model predictions when deployed.\n",
    "    \"\"\"\n",
    "    baseline_path = Path(base_dir) / \"test-baseline\"\n",
    "    baseline_path.mkdir(parents=True, exist_ok=True)\n",
    "\n",
    "    df = df_test.copy().dropna()\n",
    "\n",
    "    df.to_csv(baseline_path / \"test-baseline.csv\", header=True, index=False)\n",
    "\n",
    "\n",
    "def _save_splits(base_dir, X_train, y_train, X_test, y_test):\n",
    "    \"\"\"Save data splits to disk.\n",
    "\n",
    "    This function concatenates the transformed features and the target variable,\n",
    "    and saves each one of the split sets to disk.\n",
    "    \"\"\"\n",
    "    train = np.concatenate((X_train, y_train), axis=1)\n",
    "    test = np.concatenate((X_test, y_test), axis=1)\n",
    "\n",
    "    train_path = Path(base_dir) / \"train\"\n",
    "    test_path = Path(base_dir) / \"test\"\n",
    "\n",
    "    train_path.mkdir(parents=True, exist_ok=True)\n",
    "    test_path.mkdir(parents=True, exist_ok=True)\n",
    "\n",
    "    pd.DataFrame(train).to_csv(train_path / \"train.csv\", header=False, index=False)\n",
    "    pd.DataFrame(test).to_csv(test_path / \"test.csv\", header=False, index=False)\n",
    "\n",
    "\n",
    "def _save_model(base_dir, target_transformer, features_transformer):\n",
    "    \"\"\"Save the Scikit-Learn transformation pipelines.\n",
    "    \n",
    "    This function creates a model.tar.gz file that contains the two\n",
    "    transformation pipelines we built to transform the data.\n",
    "    \"\"\"\n",
    "    with tempfile.TemporaryDirectory() as directory:\n",
    "        joblib.dump(target_transformer, Path(directory) / \"target.joblib\")\n",
    "        joblib.dump(features_transformer, Path(directory) / \"features.joblib\")\n",
    "\n",
    "        model_path = Path(base_dir) / \"model\"\n",
    "        model_path.mkdir(parents=True, exist_ok=True)\n",
    "\n",
    "        with tarfile.open(f\"{(model_path / 'model.tar.gz').as_posix()}\", \"w:gz\") as tar:\n",
    "            tar.add(Path(directory) / \"target.joblib\", arcname=\"target.joblib\")\n",
    "            tar.add(Path(directory) / \"features.joblib\", arcname=\"features.joblib\")\n",
    "\n",
    "\n",
    "if __name__ == \"__main__\":\n",
    "    preprocess(base_dir=\"/opt/ml/processing\")"
   ]
  },
  {
   "cell_type": "markdown",
   "metadata": {},
   "source": [
    "## Testing the Preprocessing Script"
   ]
  },
  {
   "cell_type": "code",
   "execution_count": 19,
   "metadata": {},
   "outputs": [
    {
     "name": "stdout",
     "output_type": "stream",
     "text": [
      "\u001b[32m.\u001b[0m\u001b[32m.\u001b[0m\u001b[32m.\u001b[0m\u001b[32m.\u001b[0m\u001b[32m.\u001b[0m\u001b[32m.\u001b[0m\u001b[32m.\u001b[0m\u001b[32m.\u001b[0m\n",
      "\u001b[32m\u001b[32m\u001b[1m8 passed\u001b[0m\u001b[32m in 0.13s\u001b[0m\u001b[0m\n"
     ]
    }
   ],
   "source": [
    "%%ipytest -s\n",
    "\n",
    "import os\n",
    "import shutil\n",
    "import tempfile\n",
    "import tarfile\n",
    "\n",
    "import pytest\n",
    "from processing.script import preprocess\n",
    "\n",
    "\n",
    "@pytest.fixture(autouse=False)\n",
    "def directory():\n",
    "    directory = tempfile.mkdtemp()\n",
    "    input_directory = Path(directory) / \"input\"\n",
    "    input_directory.mkdir(parents=True, exist_ok=True)\n",
    "    shutil.copy2(DATA_FILEPATH, input_directory / \"data.csv\")\n",
    "\n",
    "    directory = Path(directory)\n",
    "    preprocess(base_dir=directory)\n",
    "\n",
    "    yield directory\n",
    "\n",
    "    shutil.rmtree(directory)\n",
    "\n",
    "\n",
    "def test_preprocess_generates_data_splits(directory):\n",
    "    output_directories = os.listdir(directory)\n",
    "\n",
    "    assert \"train\" in output_directories\n",
    "    assert \"test\" in output_directories\n",
    "\n",
    "\n",
    "def test_preprocess_generates_baselines(directory):\n",
    "    output_directories = os.listdir(directory)\n",
    "\n",
    "    assert \"train-baseline\" in output_directories\n",
    "    assert \"test-baseline\" in output_directories\n",
    "\n",
    "\n",
    "def test_preprocess_creates_two_models(directory):\n",
    "    model_path = directory / \"model\"\n",
    "    tar = tarfile.open(model_path / \"model.tar.gz\", \"r:gz\")\n",
    "\n",
    "    assert \"features.joblib\" in tar.getnames()\n",
    "    assert \"target.joblib\" in tar.getnames()\n",
    "\n",
    "\n",
    "def test_splits_are_transformed(directory):\n",
    "    train = pd.read_csv(directory / \"train\" / \"train.csv\", header=None)\n",
    "    test = pd.read_csv(directory / \"test\" / \"test.csv\", header=None)\n",
    "\n",
    "    number_of_features = 7\n",
    "\n",
    "    assert train.shape[1] == number_of_features + 1\n",
    "    assert test.shape[1] == number_of_features + 1\n",
    "\n",
    "\n",
    "def test_train_baseline_is_not_transformed(directory):\n",
    "    baseline = pd.read_csv(\n",
    "        directory / \"train-baseline\" / \"train-baseline.csv\",\n",
    "        header=None,\n",
    "    )\n",
    "\n",
    "    island = baseline.iloc[:, 0].unique()\n",
    "\n",
    "    assert \"Biscoe\" in island\n",
    "    assert \"Torgersen\" in island\n",
    "    assert \"Dream\" in island\n",
    "\n",
    "\n",
    "def test_test_baseline_is_not_transformed(directory):\n",
    "    baseline = pd.read_csv(\n",
    "        directory / \"test-baseline\" / \"test-baseline.csv\", header=None\n",
    "    )\n",
    "\n",
    "    island = baseline.iloc[:, 1].unique()\n",
    "\n",
    "    assert \"Biscoe\" in island\n",
    "    assert \"Torgersen\" in island\n",
    "    assert \"Dream\" in island\n",
    "\n",
    "\n",
    "def test_train_baseline_includes_header(directory):\n",
    "    baseline = pd.read_csv(directory / \"train-baseline\" / \"train-baseline.csv\")\n",
    "    assert baseline.columns[0] == \"island\"\n",
    "\n",
    "\n",
    "def test_test_baseline_does_not_include_header(directory):\n",
    "    baseline = pd.read_csv(directory / \"test-baseline\" / \"test-baseline.csv\")\n",
    "    assert baseline.columns[0] != \"island\""
   ]
  },
  {
   "cell_type": "code",
   "execution_count": 20,
   "metadata": {},
   "outputs": [],
   "source": [
    "from sagemaker.workflow.steps import CacheConfig\n",
    "\n",
    "cache_config = CacheConfig(enable_caching=True, expire_after=\"15d\")"
   ]
  },
  {
   "cell_type": "code",
   "execution_count": 21,
   "metadata": {},
   "outputs": [],
   "source": [
    "from sagemaker.workflow.parameters import ParameterString\n",
    "from sagemaker.workflow.pipeline_definition_config import PipelineDefinitionConfig\n",
    "\n",
    "pipeline_definition_config = PipelineDefinitionConfig(use_custom_job_prefix=True)\n",
    "\n",
    "dataset_location = ParameterString(\n",
    "    name=\"dataset_location\",\n",
    "    default_value=f\"{S3_LOCATION}/data\"\n",
    ")"
   ]
  },
  {
   "cell_type": "code",
   "execution_count": 22,
   "metadata": {},
   "outputs": [],
   "source": [
    "from sagemaker.sklearn.processing import SKLearnProcessor\n",
    "\n",
    "processor = SKLearnProcessor(\n",
    "    base_job_name=\"preprocess-data\",\n",
    "    framework_version=\"1.2-1\",\n",
    "    instance_type=config[\"session_config\"][\"instance_type\"],\n",
    "    instance_count=1,\n",
    "    role=ROLE,\n",
    "    sagemaker_session=config[\"session_config\"][\"session\"]\n",
    ")"
   ]
  },
  {
   "cell_type": "code",
   "execution_count": 23,
   "metadata": {},
   "outputs": [
    {
     "name": "stderr",
     "output_type": "stream",
     "text": [
      "/Users/yangrchen/Documents/self_learning/ml.school/.venv/lib/python3.10/site-packages/sagemaker/workflow/pipeline_context.py:332: UserWarning: Running within a PipelineSession, there will be No Wait, No Logs, and No Job being started.\n",
      "  warnings.warn(\n"
     ]
    }
   ],
   "source": [
    "from sagemaker.processing import ProcessingInput, ProcessingOutput\n",
    "from sagemaker.workflow.steps import ProcessingStep\n",
    "\n",
    "# The processor will not run immediately as it is configured within a pipeline session\n",
    "preprocessing_step = ProcessingStep(\n",
    "    name=\"preprocess-data\",\n",
    "    step_args=processor.run(\n",
    "        code=f\"{(CODE_FOLDER / 'processing' / 'script.py').as_posix()}\",\n",
    "        inputs=[\n",
    "            ProcessingInput(\n",
    "                source=dataset_location,\n",
    "                destination=\"/opt/ml/processing/input\",\n",
    "            )\n",
    "        ],\n",
    "        outputs=[\n",
    "            ProcessingOutput(\n",
    "                output_name=\"train\",\n",
    "                source=\"/opt/ml/processing/train\",\n",
    "                destination=f\"{S3_LOCATION}/preprocessing/train\",\n",
    "            ),\n",
    "            ProcessingOutput(\n",
    "                output_name=\"test\",\n",
    "                source=\"/opt/ml/processing/test\",\n",
    "                destination=f\"{S3_LOCATION}/preprocessing/test\",\n",
    "            ),\n",
    "            ProcessingOutput(\n",
    "                output_name=\"model\",\n",
    "                source=\"/opt/ml/processing/model\",\n",
    "                destination=f\"{S3_LOCATION}/preprocessing/model\",\n",
    "            ),\n",
    "            ProcessingOutput(\n",
    "                output_name=\"train-baseline\",\n",
    "                source=\"/opt/ml/processing/train-baseline\",\n",
    "                destination=f\"{S3_LOCATION}/preprocessing/train-baseline\",\n",
    "            ),\n",
    "            ProcessingOutput(\n",
    "                output_name=\"test-baseline\",\n",
    "                source=\"/opt/ml/processing/test-baseline\",\n",
    "                destination=f\"{S3_LOCATION}/preprocessing/test-baseline\",\n",
    "            ),\n",
    "        ],\n",
    "    ),\n",
    "    cache_config=cache_config,\n",
    ")"
   ]
  },
  {
   "cell_type": "code",
   "execution_count": 24,
   "metadata": {},
   "outputs": [
    {
     "data": {
      "text/plain": [
       "{'PipelineArn': 'arn:aws:sagemaker:us-east-1:217145131661:pipeline/preprocess-pipeline',\n",
       " 'ResponseMetadata': {'RequestId': '92fe7d11-9118-46c2-8687-6d358a1cdaf1',\n",
       "  'HTTPStatusCode': 200,\n",
       "  'HTTPHeaders': {'x-amzn-requestid': '92fe7d11-9118-46c2-8687-6d358a1cdaf1',\n",
       "   'content-type': 'application/x-amz-json-1.1',\n",
       "   'content-length': '87',\n",
       "   'date': 'Wed, 22 May 2024 19:51:00 GMT'},\n",
       "  'RetryAttempts': 0}}"
      ]
     },
     "execution_count": 24,
     "metadata": {},
     "output_type": "execute_result"
    }
   ],
   "source": [
    "from sagemaker.workflow.pipeline import Pipeline\n",
    "\n",
    "preprocess_pipeline = Pipeline(\n",
    "    name=\"preprocess-pipeline\",\n",
    "    parameters=[dataset_location],\n",
    "    steps=[\n",
    "        preprocessing_step\n",
    "    ],\n",
    "    pipeline_definition_config=pipeline_definition_config,\n",
    "    sagemaker_session=config[\"session_config\"][\"session\"],\n",
    ")\n",
    "\n",
    "preprocess_pipeline.upsert(role_arn=ROLE)"
   ]
  },
  {
   "cell_type": "code",
   "execution_count": 25,
   "metadata": {},
   "outputs": [],
   "source": [
    "%%script false --no-raise-error\n",
    "\n",
    "preprocess_pipeline.start()"
   ]
  },
  {
   "cell_type": "markdown",
   "metadata": {},
   "source": [
    "# Training the Model"
   ]
  },
  {
   "cell_type": "code",
   "execution_count": 26,
   "metadata": {},
   "outputs": [],
   "source": [
    "(CODE_FOLDER / \"training\").mkdir(parents=True, exist_ok=True)\n",
    "sys.path.extend([f\"./{CODE_FOLDER}/training\"])"
   ]
  },
  {
   "cell_type": "code",
   "execution_count": 27,
   "metadata": {},
   "outputs": [
    {
     "name": "stdout",
     "output_type": "stream",
     "text": [
      "Overwriting code/training/script.py\n"
     ]
    }
   ],
   "source": [
    "%%writefile {CODE_FOLDER}/training/script.py\n",
    "\n",
    "import argparse\n",
    "import json\n",
    "import os\n",
    "import tarfile\n",
    "\n",
    "from pathlib import Path\n",
    "from comet_ml import Experiment\n",
    "\n",
    "import numpy as np\n",
    "import pandas as pd\n",
    "from sklearn.model_selection import KFold\n",
    "import keras\n",
    "from keras import Input\n",
    "from keras.layers import Dense\n",
    "from keras.models import Sequential\n",
    "from keras.optimizers import SGD\n",
    "from packaging import version\n",
    "from sklearn.metrics import accuracy_score\n",
    "\n",
    "\n",
    "def train(\n",
    "    model_dir: Path | str,\n",
    "    train_path: Path | str,\n",
    "    pipeline_path: Path | str,\n",
    "    experiment: Experiment,\n",
    "    epochs: int,\n",
    "    batch_size: int,\n",
    "    k: int,\n",
    "    learning_rate: float,\n",
    "):\n",
    "    print(f\"Keras version: {keras.__version__}\")\n",
    "\n",
    "    X = pd.read_csv(Path(train_path) / \"train.csv\")\n",
    "    y = X[X.columns[-1]]\n",
    "    X = X.drop(X.columns[-1], axis=1)\n",
    "\n",
    "    kfold = KFold(n_splits=k, shuffle=True, random_state=42)\n",
    "    cv_scores = []\n",
    "\n",
    "    for i, (train_idx, val_idx) in enumerate(kfold.split(X, y)):\n",
    "        X_train, X_val = X.iloc[train_idx], X.iloc[val_idx]\n",
    "        y_train, y_val = y.iloc[train_idx], y.iloc[val_idx]\n",
    "        model = _create_model(X.shape[1], learning_rate=learning_rate)\n",
    "        model.fit(\n",
    "            X_train,\n",
    "            y_train,\n",
    "            validation_data=(X_val, y_val),\n",
    "            epochs=epochs,\n",
    "            batch_size=batch_size,\n",
    "            verbose=2,\n",
    "        )\n",
    "\n",
    "        scores = model.evaluate(X_val, y_val, verbose=0)\n",
    "        experiment.log_metric(f\"fold_{i}_accuracy\", scores[1])\n",
    "        print(f\"fold_{i}_accuracy: {scores[1]}\")\n",
    "        cv_scores.append(scores[1])\n",
    "\n",
    "    cv_val_accuracy = np.mean(cv_scores)\n",
    "    print(f\"cv_val_accuracy: {cv_val_accuracy}\")\n",
    "\n",
    "    # Retrain on full data\n",
    "    model = _create_model(X.shape[1], learning_rate=learning_rate)\n",
    "    model.fit(X, y, epochs=epochs, batch_size=batch_size, verbose=0)\n",
    "\n",
    "    model_filepath = (\n",
    "        Path(model_dir) / \"001\"\n",
    "        if version.parse(keras.__version__) < version.parse(\"3\")\n",
    "        else Path(model_dir) / \"penguins.keras\"\n",
    "    )\n",
    "\n",
    "    model.save(model_filepath)\n",
    "\n",
    "    with tarfile.open(Path(pipeline_path) / \"model.tar.gz\", \"r:gz\") as tar:\n",
    "        tar.extractall(model_dir)\n",
    "\n",
    "    if experiment:\n",
    "        experiment.log_parameters(\n",
    "            {\n",
    "                \"epochs\": epochs,\n",
    "                \"batch_size\": batch_size,\n",
    "                \"learning_rate\": model.optimizer.learning_rate.numpy(),\n",
    "            }\n",
    "        )\n",
    "        experiment.log_dataset_hash(X)\n",
    "        experiment.log_metric(\"cv_val_accuracy\", cv_val_accuracy)\n",
    "        experiment.log_model(\"penguins\", model_filepath.as_posix())\n",
    "\n",
    "\n",
    "def _create_model(n_input: int, learning_rate: float):\n",
    "    model = Sequential(\n",
    "        [\n",
    "            Input(shape=(n_input,)),\n",
    "            Dense(10, activation=\"relu\"),\n",
    "            Dense(8, activation=\"relu\"),\n",
    "            Dense(3, activation=\"softmax\"),\n",
    "        ]\n",
    "    )\n",
    "\n",
    "    model.compile(\n",
    "        optimizer=SGD(learning_rate=learning_rate),\n",
    "        loss=\"sparse_categorical_crossentropy\",\n",
    "        metrics=[\"accuracy\"],\n",
    "    )\n",
    "\n",
    "    return model\n",
    "\n",
    "\n",
    "if __name__ == \"__main__\":\n",
    "    parser = argparse.ArgumentParser()\n",
    "    parser.add_argument(\"--epochs\", type=int)\n",
    "    parser.add_argument(\"--batch_size\", type=int)\n",
    "    parser.add_argument(\"-k\", type=int)\n",
    "    parser.add_argument(\"--learning_rate\", type=float)\n",
    "    args, _ = parser.parse_known_args()\n",
    "\n",
    "    comet_api_key = os.environ.get(\"COMET_API_KEY\", None)\n",
    "    comet_project_name = os.environ.get(\"COMET_PROJECT_NAME\", None)\n",
    "\n",
    "    experiment = (\n",
    "        Experiment(\n",
    "            project_name=comet_project_name,\n",
    "            api_key=comet_api_key,\n",
    "            auto_metric_logging=False,\n",
    "            auto_param_logging=False,\n",
    "            log_code=True,\n",
    "        )\n",
    "        if comet_api_key and comet_project_name\n",
    "        else None\n",
    "    )\n",
    "\n",
    "    train_env = json.loads(os.environ.get(\"SM_TRAINING_ENV\", {}))\n",
    "    job_name = train_env.get(\"job_name\", None) if train_env else None\n",
    "\n",
    "    if job_name and experiment:\n",
    "        experiment.set_name(job_name)\n",
    "\n",
    "    train(\n",
    "        model_dir=os.environ[\"SM_MODEL_DIR\"],\n",
    "        train_path=os.environ[\"SM_CHANNEL_TRAIN\"],\n",
    "        pipeline_path=os.environ[\"SM_CHANNEL_PIPELINE\"],\n",
    "        experiment=experiment,\n",
    "        epochs=args.epochs,\n",
    "        batch_size=args.batch_size,\n",
    "        k=args.k,\n",
    "        learning_rate=args.learning_rate,\n",
    "    )"
   ]
  },
  {
   "cell_type": "code",
   "execution_count": 28,
   "metadata": {},
   "outputs": [],
   "source": [
    "%%script false --no-raise-error\n",
    "%%ipytest -s\n",
    "\n",
    "import os\n",
    "import shutil\n",
    "import pytest\n",
    "import tempfile\n",
    "\n",
    "from processing.script import preprocess\n",
    "from training.script import train\n",
    "\n",
    "@pytest.fixture(scope=\"function\", autouse=False)\n",
    "def directory():\n",
    "    directory = tempfile.mkdtemp()\n",
    "    input_directory = Path(directory) / \"input\"\n",
    "    input_directory.mkdir(parents=True, exist_ok=True)\n",
    "    shutil.copy2(DATA_FILEPATH, input_directory / \"data.csv\")\n",
    "\n",
    "    directory = Path(directory)\n",
    "\n",
    "    preprocess(base_dir=directory)\n",
    "    train(model_dir=directory / \"model\", train_path=directory / \"train\", pipeline_path=directory / \"model\", experiment=None, epochs=1, batch_size=32, k=5, learning_rate=0.01)\n",
    "\n",
    "    yield directory\n",
    "\n",
    "    shutil.rmtree(directory)\n",
    "\n",
    "def test_train_bundles_model_assets(directory):\n",
    "    bundle = os.listdir(directory / \"model\")\n",
    "    assert \"penguins.keras\" in bundle\n",
    "\n",
    "\n",
    "def test_train_bundles_transformation_pipelines(directory):\n",
    "    bundle = os.listdir(directory / \"model\")\n",
    "    assert \"target.joblib\" in bundle\n",
    "    assert \"features.joblib\" in bundle"
   ]
  },
  {
   "cell_type": "code",
   "execution_count": 29,
   "metadata": {},
   "outputs": [
    {
     "name": "stdout",
     "output_type": "stream",
     "text": [
      "Overwriting code/training/requirements.txt\n"
     ]
    }
   ],
   "source": [
    "%%writefile {CODE_FOLDER}/training/requirements.txt\n",
    "\n",
    "comet_ml"
   ]
  },
  {
   "cell_type": "code",
   "execution_count": 30,
   "metadata": {},
   "outputs": [],
   "source": [
    "from sagemaker.tensorflow import TensorFlow\n",
    "from sagemaker.workflow.parameters import ParameterInteger, ParameterFloat\n",
    "\n",
    "# Create a parameter for epochs so it can be dynamic and managed by the pipeline\n",
    "epochs = ParameterInteger(name=\"epochs\", default_value=50)\n",
    "learning_rate = ParameterFloat(name=\"learning_rate\", default_value=0.01)\n",
    "\n",
    "estimator = TensorFlow(\n",
    "    base_job_name=\"training\",\n",
    "    entry_point=\"script.py\",\n",
    "    source_dir=f\"{(CODE_FOLDER / 'training').as_posix()}\",\n",
    "    # Hyperparameter args are passed to the training script\n",
    "    # as command-line args\n",
    "    hyperparameters={ \n",
    "        \"epochs\": epochs,\n",
    "        \"batch_size\": 32,\n",
    "        \"k\": 5,\n",
    "        \"learning_rate\": learning_rate\n",
    "    },\n",
    "    environment={\n",
    "        \"COMET_API_KEY\": config[\"comet_config\"][\"api_key\"],\n",
    "        \"COMET_PROJECT_NAME\": config[\"comet_config\"][\"project_name\"],\n",
    "    },\n",
    "    metric_definitions=[\n",
    "        {\"Name\": \"loss\", \"Regex\": \"loss: ([0-9\\\\.]+)\"},\n",
    "        {\"Name\": \"accuracy\", \"Regex\": \"accuracy: ([0-9]\\\\.]+)\"},\n",
    "        {\"Name\": \"val_loss\", \"Regex\": \"val_loss: ([0-9]\\\\.]+)\"},\n",
    "        {\"Name\": \"val_accuracy\", \"Regex\": \"val_accuracy: ([0-9\\\\.]+)\"},\n",
    "    ],\n",
    "    image_uri=config[\"session_config\"][\"image\"],\n",
    "    framework_version=config[\"session_config\"][\"framework_version\"],\n",
    "    py_version=config[\"session_config\"][\"py_version\"],\n",
    "    instance_type=config[\"session_config\"][\"instance_type\"],\n",
    "    instance_count=1,\n",
    "    disable_profiler=True,\n",
    "    debugger_hook_config=False,\n",
    "    sagemaker_session=config[\"session_config\"][\"session\"],\n",
    "    role=ROLE,\n",
    ")"
   ]
  },
  {
   "cell_type": "code",
   "execution_count": 31,
   "metadata": {},
   "outputs": [
    {
     "name": "stderr",
     "output_type": "stream",
     "text": [
      "/Users/yangrchen/Documents/self_learning/ml.school/.venv/lib/python3.10/site-packages/sagemaker/workflow/pipeline_context.py:332: UserWarning: Running within a PipelineSession, there will be No Wait, No Logs, and No Job being started.\n",
      "  warnings.warn(\n"
     ]
    }
   ],
   "source": [
    "from sagemaker.inputs import TrainingInput\n",
    "from sagemaker.workflow.steps import TrainingStep\n",
    "\n",
    "\n",
    "def create_training_step(estimator):\n",
    "    return TrainingStep(\n",
    "        name=\"train-model\",\n",
    "        step_args=estimator.fit(\n",
    "            inputs={\n",
    "                \"train\": TrainingInput(\n",
    "                    s3_data=preprocessing_step.properties.ProcessingOutputConfig.Outputs[\n",
    "                        \"train\"\n",
    "                    ].S3Output.S3Uri,\n",
    "                    content_type=\"text/csv\",\n",
    "                ),\n",
    "                \"pipeline\": TrainingInput(\n",
    "                    s3_data=preprocessing_step.properties.ProcessingOutputConfig.Outputs[\n",
    "                        \"model\"\n",
    "                    ].S3Output.S3Uri,\n",
    "                    content_type=\"application/tar+gzip\",\n",
    "                ),\n",
    "            }\n",
    "        ),\n",
    "        # cache_config=cache_config,\n",
    "    )\n",
    "\n",
    "\n",
    "train_model_step = create_training_step(estimator)"
   ]
  },
  {
   "cell_type": "code",
   "execution_count": 32,
   "metadata": {},
   "outputs": [
    {
     "name": "stderr",
     "output_type": "stream",
     "text": [
      "INFO:sagemaker.image_uris:image_uri is not presented, retrieving image_uri based on instance_type, framework etc.\n",
      "INFO:sagemaker.image_uris:image_uri is not presented, retrieving image_uri based on instance_type, framework etc.\n"
     ]
    },
    {
     "data": {
      "text/plain": [
       "{'PipelineArn': 'arn:aws:sagemaker:us-east-1:217145131661:pipeline/train-pipeline',\n",
       " 'ResponseMetadata': {'RequestId': '408b7139-d40b-45e8-af2b-ee9a8783e9e5',\n",
       "  'HTTPStatusCode': 200,\n",
       "  'HTTPHeaders': {'x-amzn-requestid': '408b7139-d40b-45e8-af2b-ee9a8783e9e5',\n",
       "   'content-type': 'application/x-amz-json-1.1',\n",
       "   'content-length': '82',\n",
       "   'date': 'Wed, 22 May 2024 19:51:02 GMT'},\n",
       "  'RetryAttempts': 2}}"
      ]
     },
     "execution_count": 32,
     "metadata": {},
     "output_type": "execute_result"
    }
   ],
   "source": [
    "train_pipeline = Pipeline(\n",
    "    name=\"train-pipeline\",\n",
    "    parameters=[dataset_location, epochs, learning_rate],\n",
    "    steps=[\n",
    "        preprocessing_step,\n",
    "        train_model_step,\n",
    "    ],\n",
    "    pipeline_definition_config=pipeline_definition_config,\n",
    "    sagemaker_session=config[\"session_config\"][\"session\"]\n",
    ")\n",
    "\n",
    "train_pipeline.upsert(role_arn=ROLE)"
   ]
  },
  {
   "cell_type": "markdown",
   "metadata": {},
   "source": [
    "# Creating Custom Training Container"
   ]
  },
  {
   "cell_type": "code",
   "execution_count": 33,
   "metadata": {},
   "outputs": [
    {
     "data": {
      "text/plain": [
       "PosixPath('code/containers/training/train.py')"
      ]
     },
     "execution_count": 33,
     "metadata": {},
     "output_type": "execute_result"
    }
   ],
   "source": [
    "import shutil\n",
    "\n",
    "(CODE_FOLDER / \"containers\" / \"training\").mkdir(parents=True, exist_ok=True)\n",
    "shutil.copy2(\n",
    "    CODE_FOLDER / \"training\" / \"script.py\",\n",
    "    CODE_FOLDER / \"containers\" / \"training\" / \"train.py\",\n",
    ")"
   ]
  },
  {
   "cell_type": "code",
   "execution_count": 34,
   "metadata": {},
   "outputs": [
    {
     "name": "stdout",
     "output_type": "stream",
     "text": [
      "Overwriting code/containers/training/requirements.txt\n"
     ]
    }
   ],
   "source": [
    "%%writefile {CODE_FOLDER}/containers/training/requirements.txt\n",
    "\n",
    "sagemaker-training\n",
    "packaging\n",
    "keras\n",
    "pandas\n",
    "scikit-learn\n",
    "comet_ml\n",
    "jax[cpu]"
   ]
  },
  {
   "cell_type": "markdown",
   "metadata": {},
   "source": [
    "## Building Custom Docker Image"
   ]
  },
  {
   "cell_type": "code",
   "execution_count": 35,
   "metadata": {},
   "outputs": [
    {
     "name": "stdout",
     "output_type": "stream",
     "text": [
      "Overwriting code/containers/training/Dockerfile\n"
     ]
    }
   ],
   "source": [
    "%%writefile {CODE_FOLDER}/containers/training/Dockerfile\n",
    "\n",
    "FROM python:3.10-slim\n",
    "\n",
    "RUN apt-get -y update && apt-get install -y --no-install-recommends \\\n",
    "    python3 \\\n",
    "    build-essential \\\n",
    "    libssl-dev \\\n",
    "    pkg-config \\\n",
    "    libhdf5-serial-dev\n",
    "    \n",
    "\n",
    "COPY requirements.txt .\n",
    "RUN pip install --user --upgrade pip\n",
    "RUN pip3 install -r requirements.txt\n",
    "\n",
    "COPY train.py /opt/ml/code/train.py\n",
    "ENV SAGEMAKER_PROGRAM train.py\n",
    "\n",
    "ENV KERAS_BACKEND=jax"
   ]
  },
  {
   "cell_type": "code",
   "execution_count": 36,
   "metadata": {},
   "outputs": [
    {
     "name": "stdout",
     "output_type": "stream",
     "text": [
      "Building Docker image for linux/amd64 architecture...\n",
      "\u001b[1A\u001b[1B\u001b[0G\u001b[?25l[+] Building 0.0s (0/0)  docker:desktop-linux\n",
      "\u001b[?25h\u001b[1A\u001b[0G\u001b[?25l[+] Building 0.0s (0/1)                                    docker:desktop-linux\n",
      "\u001b[?25h\u001b[1A\u001b[0G\u001b[?25l[+] Building 0.2s (1/2)                                    docker:desktop-linux\n",
      "\u001b[34m => [internal] load build definition from Dockerfile                       0.0s\n",
      "\u001b[0m\u001b[34m => => transferring dockerfile: 517B                                       0.0s\n",
      "\u001b[0m => [internal] load metadata for docker.io/library/python:3.10-slim        0.2s\n",
      "\u001b[?25h\u001b[1A\u001b[1A\u001b[1A\u001b[1A\u001b[0G\u001b[?25l[+] Building 0.3s (1/2)                                    docker:desktop-linux\n",
      "\u001b[34m => [internal] load build definition from Dockerfile                       0.0s\n",
      "\u001b[0m\u001b[34m => => transferring dockerfile: 517B                                       0.0s\n",
      "\u001b[0m => [internal] load metadata for docker.io/library/python:3.10-slim        0.3s\n",
      "\u001b[?25h\u001b[1A\u001b[1A\u001b[1A\u001b[1A\u001b[0G\u001b[?25l[+] Building 0.4s (2/3)                                    docker:desktop-linux\n",
      "\u001b[34m => [internal] load build definition from Dockerfile                       0.0s\n",
      "\u001b[0m\u001b[34m => => transferring dockerfile: 517B                                       0.0s\n",
      "\u001b[0m\u001b[34m => [internal] load metadata for docker.io/library/python:3.10-slim        0.4s\n",
      "\u001b[0m\u001b[?25h\u001b[1A\u001b[1A\u001b[1A\u001b[1A\u001b[0G\u001b[?25l[+] Building 0.5s (11/11) FINISHED                         docker:desktop-linux\n",
      "\u001b[34m => [internal] load build definition from Dockerfile                       0.0s\n",
      "\u001b[0m\u001b[34m => => transferring dockerfile: 517B                                       0.0s\n",
      "\u001b[0m\u001b[34m => [internal] load metadata for docker.io/library/python:3.10-slim        0.4s\n",
      "\u001b[0m\u001b[34m => [internal] load .dockerignore                                          0.0s\n",
      "\u001b[0m\u001b[34m => => transferring context: 2B                                            0.0s\n",
      "\u001b[0m\u001b[34m => [1/6] FROM docker.io/library/python:3.10-slim@sha256:31b1e4b1c4a19036  0.0s\n",
      "\u001b[0m\u001b[34m => [internal] load build context                                          0.0s\n",
      "\u001b[0m\u001b[34m => => transferring context: 4.51kB                                        0.0s\n",
      "\u001b[0m\u001b[34m => CACHED [2/6] RUN apt-get -y update && apt-get install -y --no-install  0.0s\n",
      "\u001b[0m\u001b[34m => CACHED [3/6] COPY requirements.txt .                                   0.0s\n",
      "\u001b[0m\u001b[34m => CACHED [4/6] RUN pip install --user --upgrade pip                      0.0s\n",
      "\u001b[0m\u001b[34m => CACHED [5/6] RUN pip3 install -r requirements.txt                      0.0s\n",
      "\u001b[0m\u001b[34m => CACHED [6/6] COPY train.py /opt/ml/code/train.py                       0.0s\n",
      "\u001b[0m\u001b[34m => exporting to image                                                     0.0s\n",
      "\u001b[0m\u001b[34m => => exporting layers                                                    0.0s\n",
      "\u001b[0m\u001b[34m => => writing image sha256:92eb05a21a7726b3848801584bf2b235922b92b4339b2  0.0s\n",
      "\u001b[0m\u001b[34m => => naming to docker.io/library/keras-custom-training-container         0.0s\n",
      "\u001b[0m\u001b[?25h\u001b[1m\n",
      "What's Next?\n",
      "\u001b[0m  1. Sign in to your Docker account → \u001b[36mdocker login\u001b[0m\n",
      "  2. View a summary of image vulnerabilities and recommendations → \u001b[36mdocker scout quickview\u001b[0m\n"
     ]
    }
   ],
   "source": [
    "IMAGE_NAME = \"keras-custom-training-container\"\n",
    "\n",
    "if not LOCAL_MODE:\n",
    "    print(\"Building Docker image for linux/amd64 architecture...\")\n",
    "    \n",
    "    !docker build --platform=\"linux/amd64\" -t $IMAGE_NAME \\\n",
    "        $CODE_FOLDER/containers/training/\n",
    "else:\n",
    "    print(\"Building Docker image for arm64 architecture...\")\n",
    "\n",
    "    !docker build -t $IMAGE_NAME \\\n",
    "        $CODE_FOLDER/containers/training/"
   ]
  },
  {
   "cell_type": "markdown",
   "metadata": {},
   "source": [
    "## Pushing Docker Image to ECR"
   ]
  },
  {
   "cell_type": "code",
   "execution_count": 37,
   "metadata": {},
   "outputs": [
    {
     "name": "stdout",
     "output_type": "stream",
     "text": [
      "Pushing to ECR...\n",
      "Login Succeeded\n",
      "The push refers to repository [217145131661.dkr.ecr.us-east-1.amazonaws.com/keras-custom-training-container]\n",
      "4037a8fb642b: Preparing\n",
      "47e91e2460fe: Preparing\n",
      "4f37b25b4289: Preparing\n",
      "9c9c162a9dae: Preparing\n",
      "680cfe5faf4a: Preparing\n",
      "6020d42d2f73: Preparing\n",
      "085963967517: Preparing\n",
      "a2d5e7388727: Preparing\n",
      "146826fa3ca0: Preparing\n",
      "5d4427064ecc: Preparing\n",
      "6020d42d2f73: Waiting\n",
      "085963967517: Waiting\n",
      "a2d5e7388727: Waiting\n",
      "146826fa3ca0: Waiting\n",
      "5d4427064ecc: Waiting\n",
      "680cfe5faf4a: Layer already exists\n",
      "4037a8fb642b: Layer already exists\n",
      "47e91e2460fe: Layer already exists\n",
      "9c9c162a9dae: Layer already exists\n",
      "4f37b25b4289: Layer already exists\n",
      "6020d42d2f73: Layer already exists\n",
      "a2d5e7388727: Layer already exists\n",
      "085963967517: Layer already exists\n",
      "5d4427064ecc: Layer already exists\n",
      "146826fa3ca0: Layer already exists\n",
      "latest: digest: sha256:4bf7191016c03977a0081ddbde77a649dffd1a3b5f8bc17ab1e353a72ade6819 size: 2422\n"
     ]
    }
   ],
   "source": [
    "%%bash -s \"$LOCAL_MODE\" \"$IMAGE_NAME\"\n",
    "\n",
    "algorithm_name=$2\n",
    "account=$(aws sts get-caller-identity --query Account --output text)\n",
    "\n",
    "region=$(aws configure get region)\n",
    "region=${region:-us-east-1}\n",
    "\n",
    "repository=\"${account}.dkr.ecr.${region}.amazonaws.com/${algorithm_name}:latest\"\n",
    "\n",
    "if [ $1 = \"False\" ]\n",
    "then\n",
    "    echo \"Pushing to ECR...\"\n",
    "    # Check for repositories with the name and discard output and error to /dev/null\n",
    "    aws ecr describe-repositories \\\n",
    "        --repository-names \"${algorithm_name}\" > /dev/null 2>&1\n",
    "    # Create repository if it doesn't exist based on prev commmand\n",
    "    if [ $? -ne 0 ]\n",
    "    then\n",
    "        aws ecr create-repository \\\n",
    "            --repository-name \"${algorithm_name}\" > /dev/null\n",
    "    fi\n",
    "\n",
    "    aws ecr get-login-password \\\n",
    "        --region ${region}|docker \\\n",
    "        login --username AWS --password-stdin ${repository}\n",
    "\n",
    "    docker tag ${algorithm_name} ${repository}\n",
    "    docker push ${repository}\n",
    "fi"
   ]
  },
  {
   "cell_type": "code",
   "execution_count": 38,
   "metadata": {},
   "outputs": [
    {
     "data": {
      "text/plain": [
       "'217145131661.dkr.ecr.us-east-1.amazonaws.com/keras-custom-training-container:latest'"
      ]
     },
     "execution_count": 38,
     "metadata": {},
     "output_type": "execute_result"
    }
   ],
   "source": [
    "account_id = boto3.client(\"sts\").get_caller_identity().get(\"Account\")\n",
    "tag = \":latest\"\n",
    "\n",
    "uri_suffix = \"amazonaws.com\"\n",
    "if region in [\"cn-north-1\", \"cn-northwest-1\"]:\n",
    "    uri_suffix = \"amazonaws.com.cn\"\n",
    "\n",
    "training_container_image = (\n",
    "    IMAGE_NAME\n",
    "    if LOCAL_MODE\n",
    "    else f\"{account_id}.dkr.ecr.{region}.amazonaws.com/{IMAGE_NAME}{tag}\"\n",
    ")\n",
    "\n",
    "training_container_image"
   ]
  },
  {
   "cell_type": "code",
   "execution_count": 39,
   "metadata": {},
   "outputs": [
    {
     "name": "stderr",
     "output_type": "stream",
     "text": [
      "/Users/yangrchen/Documents/self_learning/ml.school/.venv/lib/python3.10/site-packages/sagemaker/workflow/pipeline_context.py:332: UserWarning: Running within a PipelineSession, there will be No Wait, No Logs, and No Job being started.\n",
      "  warnings.warn(\n"
     ]
    }
   ],
   "source": [
    "from sagemaker.estimator import Estimator\n",
    "\n",
    "keras_estimator = Estimator(\n",
    "    base_job_name=\"custom-training\",\n",
    "    hyperparameters={\n",
    "        \"epochs\": epochs,\n",
    "        \"batch_size\": 32,\n",
    "        \"k\": 5,\n",
    "        \"learning_rate\": learning_rate,\n",
    "    },\n",
    "    environment={\n",
    "        \"COMET_API_KEY\": config[\"comet_config\"][\"api_key\"],\n",
    "        \"COMET_PROJECT_NAME\": config[\"comet_config\"][\"project_name\"],\n",
    "    },\n",
    "    metric_definitions=[\n",
    "        {\"Name\": \"loss\", \"Regex\": \"loss: ([0-9\\\\.]+)\"},\n",
    "        {\"Name\": \"accuracy\", \"Regex\": \"accuracy: ([0-9\\\\.]+)\"},\n",
    "        {\"Name\": \"val_loss\", \"Regex\": \"val_loss: ([0-9\\\\.]+)\"},\n",
    "        {\"Name\": \"val_accuracy\", \"Regex\": \"val_accuracy: ([0-9\\\\.]+)\"},\n",
    "    ],\n",
    "    image_uri=training_container_image,\n",
    "    instance_count=1,\n",
    "    instance_type=config[\"session_config\"][\"instance_type\"],\n",
    "    sagemaker_session=config[\"session_config\"][\"session\"],\n",
    "    role=ROLE,\n",
    ")\n",
    "\n",
    "keras_train_model_step = create_training_step(keras_estimator)"
   ]
  },
  {
   "cell_type": "code",
   "execution_count": 40,
   "metadata": {},
   "outputs": [
    {
     "data": {
      "text/plain": [
       "{'PipelineArn': 'arn:aws:sagemaker:us-east-1:217145131661:pipeline/custom-train-pipeline',\n",
       " 'ResponseMetadata': {'RequestId': '51686bb9-6b53-45a3-b8b3-223acb47eb4b',\n",
       "  'HTTPStatusCode': 200,\n",
       "  'HTTPHeaders': {'x-amzn-requestid': '51686bb9-6b53-45a3-b8b3-223acb47eb4b',\n",
       "   'content-type': 'application/x-amz-json-1.1',\n",
       "   'content-length': '89',\n",
       "   'date': 'Wed, 22 May 2024 19:51:10 GMT'},\n",
       "  'RetryAttempts': 0}}"
      ]
     },
     "execution_count": 40,
     "metadata": {},
     "output_type": "execute_result"
    }
   ],
   "source": [
    "custom_train_pipeline = Pipeline(\n",
    "    name=\"custom-train-pipeline\",\n",
    "    parameters=[dataset_location, learning_rate, epochs],\n",
    "    steps=[\n",
    "        preprocessing_step,\n",
    "        keras_train_model_step,\n",
    "    ],\n",
    "    pipeline_definition_config=pipeline_definition_config,\n",
    "    sagemaker_session=config[\"session_config\"][\"session\"],\n",
    ")\n",
    "\n",
    "custom_train_pipeline.upsert(role_arn=ROLE)"
   ]
  },
  {
   "cell_type": "code",
   "execution_count": 41,
   "metadata": {},
   "outputs": [],
   "source": [
    "%%script false --no-raise-error\n",
    "custom_train_pipeline.start(parameters={\n",
    "    \"epochs\": 50,\n",
    "    \"learning_rate\": 0.001\n",
    "})"
   ]
  },
  {
   "cell_type": "markdown",
   "metadata": {},
   "source": [
    "# Tuning Model"
   ]
  },
  {
   "cell_type": "code",
   "execution_count": 42,
   "metadata": {},
   "outputs": [],
   "source": [
    "USE_TUNING_STEP = False"
   ]
  },
  {
   "cell_type": "code",
   "execution_count": 43,
   "metadata": {},
   "outputs": [
    {
     "name": "stderr",
     "output_type": "stream",
     "text": [
      "/Users/yangrchen/Documents/self_learning/ml.school/.venv/lib/python3.10/site-packages/sagemaker/workflow/pipeline_context.py:332: UserWarning: Running within a PipelineSession, there will be No Wait, No Logs, and No Job being started.\n",
      "  warnings.warn(\n",
      "INFO:sagemaker.image_uris:image_uri is not presented, retrieving image_uri based on instance_type, framework etc.\n",
      "WARNING:sagemaker.estimator:No finished training job found associated with this estimator. Please make sure this estimator is only used for building workflow config\n",
      "WARNING:sagemaker.estimator:No finished training job found associated with this estimator. Please make sure this estimator is only used for building workflow config\n",
      "INFO:sagemaker.image_uris:image_uri is not presented, retrieving image_uri based on instance_type, framework etc.\n",
      "INFO:sagemaker.image_uris:image_uri is not presented, retrieving image_uri based on instance_type, framework etc.\n",
      "WARNING:sagemaker.estimator:No finished training job found associated with this estimator. Please make sure this estimator is only used for building workflow config\n",
      "WARNING:sagemaker.estimator:No finished training job found associated with this estimator. Please make sure this estimator is only used for building workflow config\n",
      "INFO:sagemaker.image_uris:image_uri is not presented, retrieving image_uri based on instance_type, framework etc.\n"
     ]
    },
    {
     "data": {
      "text/plain": [
       "{'PipelineArn': 'arn:aws:sagemaker:us-east-1:217145131661:pipeline/tune-pipeline',\n",
       " 'ResponseMetadata': {'RequestId': '708c2907-3043-4888-a697-27a21662b7e2',\n",
       "  'HTTPStatusCode': 200,\n",
       "  'HTTPHeaders': {'x-amzn-requestid': '708c2907-3043-4888-a697-27a21662b7e2',\n",
       "   'content-type': 'application/x-amz-json-1.1',\n",
       "   'content-length': '81',\n",
       "   'date': 'Wed, 22 May 2024 19:51:12 GMT'},\n",
       "  'RetryAttempts': 0}}"
      ]
     },
     "execution_count": 43,
     "metadata": {},
     "output_type": "execute_result"
    }
   ],
   "source": [
    "from sagemaker.parameter import IntegerParameter\n",
    "from sagemaker.tuner import HyperparameterTuner\n",
    "from sagemaker.workflow.steps import TuningStep\n",
    "\n",
    "tuner = HyperparameterTuner(\n",
    "    estimator,\n",
    "    objective_metric_name=\"cv_val_accuracy\",\n",
    "    objective_type=\"Maximize\",\n",
    "    hyperparameter_ranges={\n",
    "        \"epochs\": IntegerParameter(10, 50),\n",
    "    },\n",
    "    metric_definitions=[\n",
    "        {\"Name\": \"cv_val_accuracy\", \"Regex\": \"cv_val_accuracy: ([0-9\\\\.]+)\"},\n",
    "    ],\n",
    "    max_jobs=3,\n",
    "    max_parallel_jobs=3,\n",
    ")\n",
    "\n",
    "tune_model_step = TuningStep(\n",
    "    name=\"tune-model\",\n",
    "    step_args=tuner.fit(\n",
    "        inputs={\n",
    "            \"train\": TrainingInput(\n",
    "                s3_data=preprocessing_step.properties.ProcessingOutputConfig.Outputs[\n",
    "                    \"train\"\n",
    "                ].S3Output.S3Uri,\n",
    "                content_type=\"text/csv\",\n",
    "            ),\n",
    "            \"pipeline\": TrainingInput(\n",
    "                s3_data=preprocessing_step.properties.ProcessingOutputConfig.Outputs[\n",
    "                    \"model\"\n",
    "                ].S3Output.S3Uri,\n",
    "                content_type=\"application/tar+gzip\",\n",
    "            ),\n",
    "        },\n",
    "    ),\n",
    "    cache_config=cache_config,\n",
    ")\n",
    "\n",
    "tune_pipeline = Pipeline(\n",
    "    name=\"tune-pipeline\",\n",
    "    parameters=[dataset_location, epochs, learning_rate],\n",
    "    steps=[\n",
    "        preprocessing_step,\n",
    "        tune_model_step,\n",
    "    ],\n",
    "    pipeline_definition_config=pipeline_definition_config,\n",
    "    sagemaker_session=config[\"session_config\"][\"session\"],\n",
    ")\n",
    "\n",
    "tune_pipeline.upsert(role_arn=ROLE)"
   ]
  },
  {
   "cell_type": "code",
   "execution_count": 44,
   "metadata": {},
   "outputs": [],
   "source": [
    "%%script false --no-raise-error\n",
    "tune_pipeline.start()"
   ]
  },
  {
   "cell_type": "markdown",
   "metadata": {},
   "source": [
    "# Model Evaluation"
   ]
  },
  {
   "cell_type": "code",
   "execution_count": 45,
   "metadata": {},
   "outputs": [],
   "source": [
    "(CODE_FOLDER / \"evaluation\").mkdir(parents=True, exist_ok=True)\n",
    "sys.path.extend([f\"./{CODE_FOLDER}/evaluation\"])"
   ]
  },
  {
   "cell_type": "code",
   "execution_count": 46,
   "metadata": {},
   "outputs": [
    {
     "name": "stdout",
     "output_type": "stream",
     "text": [
      "Overwriting code/evaluation/script.py\n"
     ]
    }
   ],
   "source": [
    "%%writefile {CODE_FOLDER}/evaluation/script.py\n",
    "\n",
    "import json\n",
    "import tarfile\n",
    "import os\n",
    "from pathlib import Path\n",
    "\n",
    "from comet_ml import Experiment\n",
    "\n",
    "import numpy as np\n",
    "import pandas as pd\n",
    "from sklearn.metrics import accuracy_score, precision_score, recall_score\n",
    "from tensorflow import keras\n",
    "\n",
    "\n",
    "def evaluate(model_path, test_path, output_path, experiment: Experiment=None):\n",
    "    X_test = pd.read_csv(Path(test_path) / \"test.csv\")\n",
    "    y_test = X_test[X_test.columns[-1]]\n",
    "    X_test = X_test.drop(X_test.columns[-1], axis=1)\n",
    "\n",
    "    with tarfile.open(Path(model_path) / \"model.tar.gz\") as tar:\n",
    "        tar.extractall(path=Path(model_path))\n",
    "\n",
    "    model = keras.models.load_model(Path(model_path) / \"001\")\n",
    "\n",
    "    pred = np.argmax(model.predict(X_test), axis=-1)\n",
    "    accuracy = accuracy_score(y_test, pred)\n",
    "    print(f\"Test Accuracy: {accuracy}\")\n",
    "\n",
    "    precision = precision_score(y_test, pred, average=\"weighted\")\n",
    "    recall = recall_score(y_test, pred, average=\"weighted\")\n",
    "\n",
    "\n",
    "    evaluation_report = {\n",
    "        \"metrics\": {\n",
    "            \"accuracy\": {\"value\": accuracy},\n",
    "            \"precision\": {\"value\": precision},\n",
    "            \"recall\": {\"value\": recall},\n",
    "        },\n",
    "    }\n",
    "\n",
    "    if experiment:\n",
    "        experiment.log_dataset_hash(X_test)\n",
    "        experiment.log_model(\"penguins\", (Path(model_path) / \"001\").as_posix())\n",
    "        experiment.log_confusion_matrix(y_test.astype(int), pred.astype(int))\n",
    "\n",
    "    # Calculate accuracy on each island separately\n",
    "    for i in range (4, 7):\n",
    "        island_df = X_test[X_test.iloc[:, i] == 1]\n",
    "        y_island = y_test.loc[island_df.index]\n",
    "\n",
    "        island_pred = np.argmax(model.predict(island_df), axis=-1)\n",
    "        island_accuracy = accuracy_score(y_island, island_pred)\n",
    "        evaluation_report[\"metrics\"][f\"island_{i}\"] = {\"value\": island_accuracy}\n",
    "\n",
    "        if experiment:\n",
    "            experiment.log_metric(f\"island_{i}\", island_accuracy)\n",
    "\n",
    "    Path(output_path).mkdir(parents=True, exist_ok=True)\n",
    "    with open(Path(output_path) / \"evaluation.json\", \"w\") as f:\n",
    "        f.write(json.dumps(evaluation_report))\n",
    "\n",
    "\n",
    "if __name__ == \"__main__\":\n",
    "\n",
    "    comet_api_key = os.environ.get(\"COMET_API_KEY\", None)\n",
    "    comet_project_name = os.environ.get(\"COMET_PROJECT_NAME\", None)\n",
    "\n",
    "    experiment = (\n",
    "        Experiment(\n",
    "            project_name=comet_project_name,\n",
    "            api_key=comet_api_key,\n",
    "            auto_metric_logging=False,\n",
    "            auto_param_logging=False,\n",
    "            log_code=True,\n",
    "        )\n",
    "        if comet_api_key and comet_project_name\n",
    "        else None\n",
    "    )\n",
    "\n",
    "    if experiment:\n",
    "        experiment.set_name(\"evaluation\")\n",
    "\n",
    "    evaluate(\n",
    "        model_path=\"/opt/ml/processing/model/\",\n",
    "        test_path=\"/opt/ml/processing/test/\",\n",
    "        output_path=\"/opt/ml/processing/evaluation/\",\n",
    "        experiment=experiment,\n",
    "    )"
   ]
  },
  {
   "cell_type": "code",
   "execution_count": 47,
   "metadata": {},
   "outputs": [],
   "source": [
    "%%script false --no-raise-error\n",
    "%%ipytest -s\n",
    "\n",
    "import os\n",
    "import shutil\n",
    "import tarfile\n",
    "import pytest\n",
    "import tempfile\n",
    "\n",
    "from processing.script import preprocess\n",
    "from training.script import train\n",
    "from evaluation.script import evaluate\n",
    "\n",
    "\n",
    "@pytest.fixture(scope=\"function\", autouse=False)\n",
    "def directory():\n",
    "    directory = tempfile.mkdtemp()\n",
    "    input_dir = Path(directory) / \"input\"\n",
    "    input_dir.mkdir(parents=True, exist_ok=True)\n",
    "    shutil.copy2(DATA_FILEPATH, input_dir / \"data.csv\")\n",
    "\n",
    "    directory = Path(directory)\n",
    "\n",
    "    preprocess(base_dir=directory)\n",
    "\n",
    "    train(\n",
    "        model_dir=directory / \"model\",\n",
    "        train_path=directory / \"train\",\n",
    "        pipeline_path=directory / \"model\",\n",
    "        experiment=None,\n",
    "        epochs=1,\n",
    "        batch_size=32,\n",
    "        k=5,\n",
    "        learning_rate=0.01\n",
    "    )\n",
    "\n",
    "    with tarfile.open(directory / \"model.tar.gz\", \"w:gz\") as tar:\n",
    "        tar.add(directory / \"model\" / \"penguins.keras\", arcname=\"penguins.keras\")\n",
    "\n",
    "    evaluate(\n",
    "        model_path=directory,\n",
    "        test_path=directory / \"test\",\n",
    "        output_path=directory / \"evaluation\",\n",
    "    )\n",
    "\n",
    "    yield directory / \"evaluation\"\n",
    "\n",
    "    shutil.rmtree(directory)\n",
    "\n",
    "\n",
    "def test_evaluate_generates_evaluation_report(directory):\n",
    "    output = os.listdir(directory)\n",
    "    assert \"evaluation.json\" in output\n",
    "\n",
    "\n",
    "def test_evaluation_report_contains_accuracy(directory):\n",
    "    with open(directory / \"evaluation.json\", \"r\") as file:\n",
    "        report = json.load(file)\n",
    "\n",
    "    assert \"metrics\" in report\n",
    "    assert \"accuracy\" in report[\"metrics\"]"
   ]
  },
  {
   "cell_type": "code",
   "execution_count": 48,
   "metadata": {},
   "outputs": [],
   "source": [
    "model_assets = train_model_step.properties.ModelArtifacts.S3ModelArtifacts\n",
    "\n",
    "if USE_TUNING_STEP:\n",
    "    model_assets = tune_model_step.get_top_model_s3_uri(\n",
    "        top_k=0,\n",
    "        s3_bucket=config[\"session_config\"][\"session\"].default_bucket(),\n",
    "    )"
   ]
  },
  {
   "cell_type": "markdown",
   "metadata": {},
   "source": [
    "## Mapping Output to Property File"
   ]
  },
  {
   "cell_type": "code",
   "execution_count": 49,
   "metadata": {},
   "outputs": [],
   "source": [
    "from sagemaker.workflow.properties import PropertyFile\n",
    "\n",
    "evaluation_report = PropertyFile(\n",
    "    name=\"evaluation-report\",\n",
    "    output_name=\"evaluation\",\n",
    "    path=\"evaluation.json\",\n",
    ")"
   ]
  },
  {
   "cell_type": "code",
   "execution_count": 50,
   "metadata": {},
   "outputs": [
    {
     "name": "stderr",
     "output_type": "stream",
     "text": [
      "INFO:sagemaker.image_uris:image_uri is not presented, retrieving image_uri based on instance_type, framework etc.\n"
     ]
    }
   ],
   "source": [
    "from sagemaker.tensorflow import TensorFlowProcessor\n",
    "\n",
    "evaluation_processor = TensorFlowProcessor(\n",
    "    base_job_name=\"evaluation-processor\",\n",
    "    image_uri=config[\"session_config\"][\"image\"],\n",
    "    env={\n",
    "        \"COMET_API_KEY\": config[\"comet_config\"][\"api_key\"],\n",
    "        \"COMET_PROJECT_NAME\": config[\"comet_config\"][\"project_name\"],\n",
    "    },\n",
    "    framework_version=config[\"session_config\"][\"framework_version\"],\n",
    "    py_version=config[\"session_config\"][\"py_version\"],\n",
    "    instance_type=config[\"session_config\"][\"instance_type\"],\n",
    "    instance_count=1,\n",
    "    role=ROLE,\n",
    "    sagemaker_session=config[\"session_config\"][\"session\"],\n",
    ")"
   ]
  },
  {
   "cell_type": "code",
   "execution_count": 51,
   "metadata": {},
   "outputs": [
    {
     "name": "stdout",
     "output_type": "stream",
     "text": [
      "Overwriting code/evaluation/requirements.txt\n"
     ]
    }
   ],
   "source": [
    "%%writefile {CODE_FOLDER}/evaluation/requirements.txt\n",
    "\n",
    "comet_ml"
   ]
  },
  {
   "cell_type": "code",
   "execution_count": 52,
   "metadata": {},
   "outputs": [
    {
     "name": "stderr",
     "output_type": "stream",
     "text": [
      "/Users/yangrchen/Documents/self_learning/ml.school/.venv/lib/python3.10/site-packages/sagemaker/workflow/pipeline_context.py:332: UserWarning: Running within a PipelineSession, there will be No Wait, No Logs, and No Job being started.\n",
      "  warnings.warn(\n"
     ]
    }
   ],
   "source": [
    "evaluate_model_step = ProcessingStep(\n",
    "    name=\"evaluate-model\",\n",
    "    step_args=evaluation_processor.run(\n",
    "        code=\"script.py\",\n",
    "        source_dir=f\"{(CODE_FOLDER / 'evaluation').as_posix()}\",\n",
    "        inputs=[\n",
    "            ProcessingInput(\n",
    "                source=preprocessing_step.properties.ProcessingOutputConfig.Outputs[\n",
    "                    \"test\"\n",
    "                ].S3Output.S3Uri,\n",
    "                destination=\"/opt/ml/processing/test\",\n",
    "            ),\n",
    "            ProcessingInput(\n",
    "                source=model_assets,\n",
    "                destination=\"/opt/ml/processing/model\",\n",
    "            ),\n",
    "        ],\n",
    "        outputs=[\n",
    "            ProcessingOutput(\n",
    "                output_name=\"evaluation\",\n",
    "                source=\"/opt/ml/processing/evaluation\",\n",
    "            ),\n",
    "        ],\n",
    "    ),\n",
    "    property_files=[evaluation_report],\n",
    "    cache_config=cache_config,\n",
    ")"
   ]
  },
  {
   "cell_type": "code",
   "execution_count": 53,
   "metadata": {},
   "outputs": [
    {
     "name": "stderr",
     "output_type": "stream",
     "text": [
      "INFO:sagemaker.image_uris:image_uri is not presented, retrieving image_uri based on instance_type, framework etc.\n",
      "INFO:sagemaker.processing:Uploaded code/evaluation to s3://yang-ml-school/evaluation-pipeline/code/e3e161f806d97d578d62a1094b7046f9/sourcedir.tar.gz\n",
      "INFO:sagemaker.processing:runproc.sh uploaded to s3://yang-ml-school/evaluation-pipeline/code/f3b7867d7495763812a03744135acb08/runproc.sh\n",
      "INFO:sagemaker.image_uris:image_uri is not presented, retrieving image_uri based on instance_type, framework etc.\n",
      "INFO:sagemaker.processing:Uploaded code/evaluation to s3://yang-ml-school/evaluation-pipeline/code/e3e161f806d97d578d62a1094b7046f9/sourcedir.tar.gz\n",
      "INFO:sagemaker.processing:runproc.sh uploaded to s3://yang-ml-school/evaluation-pipeline/code/f3b7867d7495763812a03744135acb08/runproc.sh\n"
     ]
    },
    {
     "data": {
      "text/plain": [
       "{'PipelineArn': 'arn:aws:sagemaker:us-east-1:217145131661:pipeline/evaluation-pipeline',\n",
       " 'ResponseMetadata': {'RequestId': '709558d0-dc62-4333-b9a6-0790d54184ba',\n",
       "  'HTTPStatusCode': 200,\n",
       "  'HTTPHeaders': {'x-amzn-requestid': '709558d0-dc62-4333-b9a6-0790d54184ba',\n",
       "   'content-type': 'application/x-amz-json-1.1',\n",
       "   'content-length': '87',\n",
       "   'date': 'Wed, 22 May 2024 19:51:14 GMT'},\n",
       "  'RetryAttempts': 0}}"
      ]
     },
     "execution_count": 53,
     "metadata": {},
     "output_type": "execute_result"
    }
   ],
   "source": [
    "evaluate_pipeline = Pipeline(\n",
    "    name=\"evaluation-pipeline\",\n",
    "    parameters=[dataset_location, epochs, learning_rate],\n",
    "    steps=[\n",
    "        preprocessing_step,\n",
    "        tune_model_step if USE_TUNING_STEP else train_model_step,\n",
    "        evaluate_model_step,\n",
    "    ],\n",
    "    pipeline_definition_config=pipeline_definition_config,\n",
    "    sagemaker_session=config[\"session_config\"][\"session\"],\n",
    ")\n",
    "\n",
    "evaluate_pipeline.upsert(role_arn=ROLE)"
   ]
  },
  {
   "cell_type": "code",
   "execution_count": 54,
   "metadata": {},
   "outputs": [],
   "source": [
    "%%script false --no-raise-error\n",
    "\n",
    "evaluate_pipeline.start()"
   ]
  },
  {
   "cell_type": "markdown",
   "metadata": {},
   "source": [
    "# Registering the Model"
   ]
  },
  {
   "cell_type": "code",
   "execution_count": 55,
   "metadata": {},
   "outputs": [],
   "source": [
    "BASIC_MODEL_PACKAGE_GROUP = \"basic-penguins\"\n",
    "\n",
    "from sagemaker.tensorflow.model import TensorFlowModel\n",
    "\n",
    "tensorflow_model = TensorFlowModel(\n",
    "    model_data=model_assets,\n",
    "    framework_version=config[\"session_config\"][\"framework_version\"],\n",
    "    sagemaker_session=config[\"session_config\"][\"session\"],\n",
    "    role=ROLE,\n",
    ")"
   ]
  },
  {
   "cell_type": "code",
   "execution_count": 56,
   "metadata": {},
   "outputs": [],
   "source": [
    "from sagemaker.model_metrics import MetricsSource, ModelMetrics\n",
    "from sagemaker.workflow.functions import Join\n",
    "\n",
    "model_metrics = ModelMetrics(\n",
    "    model_statistics=MetricsSource(\n",
    "        s3_uri=Join(\n",
    "            on=\"/\",\n",
    "            values=[\n",
    "                evaluate_model_step.properties.ProcessingOutputConfig.Outputs[\n",
    "                    \"evaluation\"\n",
    "                ].S3Output.S3Uri,\n",
    "                \"evaluation.json\",\n",
    "            ],\n",
    "        ),\n",
    "        content_type=\"application/json\",\n",
    "    )\n",
    ")"
   ]
  },
  {
   "cell_type": "code",
   "execution_count": 57,
   "metadata": {},
   "outputs": [
    {
     "name": "stderr",
     "output_type": "stream",
     "text": [
      "INFO:sagemaker.tensorflow.model:image_uri is not presented, retrieving image_uri based on instance_type, framework etc.\n"
     ]
    },
    {
     "name": "stderr",
     "output_type": "stream",
     "text": [
      "/Users/yangrchen/Documents/self_learning/ml.school/.venv/lib/python3.10/site-packages/sagemaker/workflow/pipeline_context.py:332: UserWarning: Running within a PipelineSession, there will be No Wait, No Logs, and No Job being started.\n",
      "  warnings.warn(\n"
     ]
    }
   ],
   "source": [
    "from sagemaker.workflow.model_step import ModelStep\n",
    "\n",
    "class ApprovalStatus:\n",
    "    APPROVED = \"Approved\"\n",
    "    PENDING = \"PendingManualApproval\"\n",
    "\n",
    "\n",
    "def create_registration_step(\n",
    "    model,\n",
    "    model_package_group_name,\n",
    "    approval_status=ApprovalStatus.PENDING,\n",
    "    content_types=[\"text/csv\"],\n",
    "    response_types=[\"application/json\"],\n",
    "    model_metrics=None,\n",
    "    drift_check_baselines=None,\n",
    "):\n",
    "    return ModelStep(\n",
    "        name=\"register\",\n",
    "        step_args=model.register(\n",
    "            model_package_group_name=model_package_group_name,\n",
    "            approval_status=approval_status,\n",
    "            model_metrics=model_metrics,\n",
    "            drift_check_baselines=drift_check_baselines,\n",
    "            content_types=content_types,\n",
    "            response_types=response_types,\n",
    "            inference_instances=[config[\"session_config\"][\"instance_type\"]],\n",
    "            transform_instances=[config[\"session_config\"][\"instance_type\"]],\n",
    "            framework_version=config[\"session_config\"][\"framework_version\"],\n",
    "            domain=\"MACHINE_LEARNING\",\n",
    "            task=\"CLASSIFICATION\",\n",
    "            framework=\"TENSORFLOW\",\n",
    "        ),\n",
    "    )\n",
    "\n",
    "\n",
    "register_model_step = create_registration_step(\n",
    "    tensorflow_model,\n",
    "    BASIC_MODEL_PACKAGE_GROUP,\n",
    "    model_metrics=model_metrics,\n",
    "    approval_status=ApprovalStatus.APPROVED,\n",
    ")"
   ]
  },
  {
   "cell_type": "code",
   "execution_count": 58,
   "metadata": {},
   "outputs": [
    {
     "name": "stderr",
     "output_type": "stream",
     "text": [
      "INFO:sagemaker.image_uris:image_uri is not presented, retrieving image_uri based on instance_type, framework etc.\n",
      "INFO:sagemaker.processing:Uploaded code/evaluation to s3://yang-ml-school/register-pipeline/code/e3e161f806d97d578d62a1094b7046f9/sourcedir.tar.gz\n",
      "INFO:sagemaker.processing:runproc.sh uploaded to s3://yang-ml-school/register-pipeline/code/f3b7867d7495763812a03744135acb08/runproc.sh\n",
      "WARNING:sagemaker.workflow._utils:Popping out 'CertifyForMarketplace' from the pipeline definition since it will be overridden in pipeline execution time.\n",
      "INFO:sagemaker.image_uris:image_uri is not presented, retrieving image_uri based on instance_type, framework etc.\n",
      "INFO:sagemaker.processing:Uploaded code/evaluation to s3://yang-ml-school/register-pipeline/code/e3e161f806d97d578d62a1094b7046f9/sourcedir.tar.gz\n",
      "INFO:sagemaker.processing:runproc.sh uploaded to s3://yang-ml-school/register-pipeline/code/f3b7867d7495763812a03744135acb08/runproc.sh\n"
     ]
    },
    {
     "data": {
      "text/plain": [
       "{'PipelineArn': 'arn:aws:sagemaker:us-east-1:217145131661:pipeline/register-pipeline',\n",
       " 'ResponseMetadata': {'RequestId': 'a35b88f5-0d5e-4726-9973-82f492b8ec34',\n",
       "  'HTTPStatusCode': 200,\n",
       "  'HTTPHeaders': {'x-amzn-requestid': 'a35b88f5-0d5e-4726-9973-82f492b8ec34',\n",
       "   'content-type': 'application/x-amz-json-1.1',\n",
       "   'content-length': '85',\n",
       "   'date': 'Wed, 22 May 2024 19:51:15 GMT'},\n",
       "  'RetryAttempts': 0}}"
      ]
     },
     "execution_count": 58,
     "metadata": {},
     "output_type": "execute_result"
    }
   ],
   "source": [
    "register_pipeline = Pipeline(\n",
    "    name=\"register-pipeline\",\n",
    "    parameters=[dataset_location, epochs, learning_rate],\n",
    "    steps=[\n",
    "        preprocessing_step,\n",
    "        tune_model_step if USE_TUNING_STEP else train_model_step,\n",
    "        evaluate_model_step,\n",
    "        register_model_step,\n",
    "    ],\n",
    "    pipeline_definition_config=pipeline_definition_config,\n",
    "    sagemaker_session=config[\"session_config\"][\"session\"],\n",
    ")\n",
    "\n",
    "register_pipeline.upsert(role_arn=ROLE)"
   ]
  },
  {
   "cell_type": "code",
   "execution_count": 65,
   "metadata": {},
   "outputs": [],
   "source": [
    "%%script false --no-raise-error\n",
    "\n",
    "register_pipeline.start()"
   ]
  },
  {
   "cell_type": "markdown",
   "metadata": {},
   "source": [
    "# Conditional Registration"
   ]
  },
  {
   "cell_type": "code",
   "execution_count": 60,
   "metadata": {},
   "outputs": [],
   "source": [
    "from sagemaker.workflow.parameters import ParameterFloat\n",
    "from sagemaker.workflow.fail_step import FailStep\n",
    "\n",
    "# Establish an accuracy threshold that the model must pass to be registered\n",
    "accuracy_threshold = ParameterFloat(name=\"accuracy_threshold\", default_value=0.70)\n",
    "precision_threshold = ParameterFloat(name=\"precision_threshold\", default_value=0.50)\n",
    "recall_threshold = ParameterFloat(name=\"recall_threshold\", default_value=0.50)\n",
    "\n",
    "fail_step = FailStep(\n",
    "    name=\"fail\",\n",
    "    error_message=Join(\n",
    "        on=\" \",\n",
    "        values=[\n",
    "            \"Execution failed because the model's accuracy, recall, or precision was lower than\",\n",
    "            accuracy_threshold,\n",
    "            recall_threshold,\n",
    "            precision_threshold,\n",
    "        ],\n",
    "    ),\n",
    ")"
   ]
  },
  {
   "cell_type": "code",
   "execution_count": 61,
   "metadata": {},
   "outputs": [],
   "source": [
    "from sagemaker.workflow.functions import JsonGet\n",
    "from sagemaker.workflow.conditions import ConditionGreaterThanOrEqualTo\n",
    "\n",
    "# Create a condition to check if the accuracy value in the\n",
    "# property file is greater than our defined threshold\n",
    "accuracy_condition = ConditionGreaterThanOrEqualTo(\n",
    "    left=JsonGet(\n",
    "        step_name=evaluate_model_step.name,\n",
    "        property_file=evaluation_report,\n",
    "        json_path=\"metrics.accuracy.value\",\n",
    "    ),\n",
    "    right=accuracy_threshold,\n",
    ")\n",
    "precision_condition = ConditionGreaterThanOrEqualTo(\n",
    "    left=JsonGet(\n",
    "        step_name=evaluate_model_step.name,\n",
    "        property_file=evaluation_report,\n",
    "        json_path=\"metrics.precision.value\",\n",
    "    ),\n",
    "    right=precision_threshold,\n",
    ")\n",
    "recall_condition = ConditionGreaterThanOrEqualTo(\n",
    "    left=JsonGet(\n",
    "        step_name=evaluate_model_step.name,\n",
    "        property_file=evaluation_report,\n",
    "        json_path=\"metrics.recall.value\",\n",
    "    ),\n",
    "    right=recall_threshold,\n",
    ")"
   ]
  },
  {
   "cell_type": "code",
   "execution_count": 62,
   "metadata": {},
   "outputs": [
    {
     "data": {
      "text/plain": [
       "1.0"
      ]
     },
     "execution_count": 62,
     "metadata": {},
     "output_type": "execute_result"
    }
   ],
   "source": [
    "from urllib.parse import urlparse\n",
    "\n",
    "\n",
    "def retrieve_latest_accuracy(model_group: str) -> dict[str, dict]:\n",
    "    s3_client = boto3.client(\"s3\")\n",
    "\n",
    "    # Find all the models that\n",
    "    model_packages = sagemaker_client.list_model_packages(\n",
    "        ModelPackageGroupName=model_group\n",
    "    )\n",
    "    latest_evaluation_url = sagemaker_client.describe_model_package(\n",
    "        ModelPackageName=model_packages[\"ModelPackageSummaryList\"][0][\"ModelPackageArn\"]\n",
    "    )[\"ModelMetrics\"][\"ModelQuality\"][\"Statistics\"][\"S3Uri\"]\n",
    "\n",
    "    parsed_url = urlparse(latest_evaluation_url)\n",
    "    bucket_name = parsed_url.netloc\n",
    "    key = parsed_url.path.lstrip(\"/\")\n",
    "\n",
    "    response = s3_client.get_object(Bucket=bucket_name, Key=key)\n",
    "    metrics = json.loads(response[\"Body\"].read().decode(\"UTF-8\"))[\"metrics\"]\n",
    "\n",
    "    return metrics[\"accuracy\"][\"value\"]\n",
    "\n",
    "\n",
    "retrieve_latest_accuracy(model_group=BASIC_MODEL_PACKAGE_GROUP)"
   ]
  },
  {
   "cell_type": "code",
   "execution_count": 63,
   "metadata": {},
   "outputs": [
    {
     "name": "stderr",
     "output_type": "stream",
     "text": [
      "INFO:sagemaker.image_uris:image_uri is not presented, retrieving image_uri based on instance_type, framework etc.\n",
      "INFO:sagemaker.processing:Uploaded code/evaluation to s3://yang-ml-school/conditional-pipeline/code/e3e161f806d97d578d62a1094b7046f9/sourcedir.tar.gz\n",
      "INFO:sagemaker.processing:runproc.sh uploaded to s3://yang-ml-school/conditional-pipeline/code/f3b7867d7495763812a03744135acb08/runproc.sh\n",
      "INFO:sagemaker.image_uris:image_uri is not presented, retrieving image_uri based on instance_type, framework etc.\n",
      "INFO:sagemaker.processing:Uploaded code/evaluation to s3://yang-ml-school/conditional-pipeline/code/e3e161f806d97d578d62a1094b7046f9/sourcedir.tar.gz\n",
      "INFO:sagemaker.processing:runproc.sh uploaded to s3://yang-ml-school/conditional-pipeline/code/f3b7867d7495763812a03744135acb08/runproc.sh\n"
     ]
    },
    {
     "data": {
      "text/plain": [
       "{'PipelineArn': 'arn:aws:sagemaker:us-east-1:217145131661:pipeline/conditional-pipeline',\n",
       " 'ResponseMetadata': {'RequestId': '852c011e-5ee1-496b-b2fe-f60f7be8748f',\n",
       "  'HTTPStatusCode': 200,\n",
       "  'HTTPHeaders': {'x-amzn-requestid': '852c011e-5ee1-496b-b2fe-f60f7be8748f',\n",
       "   'content-type': 'application/x-amz-json-1.1',\n",
       "   'content-length': '88',\n",
       "   'date': 'Wed, 22 May 2024 19:51:17 GMT'},\n",
       "  'RetryAttempts': 0}}"
      ]
     },
     "execution_count": 63,
     "metadata": {},
     "output_type": "execute_result"
    }
   ],
   "source": [
    "from sagemaker.workflow.condition_step import ConditionStep\n",
    "\n",
    "condition_step = ConditionStep(\n",
    "    name=\"check-model-accuracy\",\n",
    "    conditions=[accuracy_condition],\n",
    "    if_steps=[register_model_step],\n",
    "    else_steps=[fail_step],\n",
    ")\n",
    "\n",
    "conditional_pipeline = Pipeline(\n",
    "    name=\"conditional-pipeline\",\n",
    "    parameters=[dataset_location, epochs, learning_rate, accuracy_threshold, precision_threshold, recall_threshold],\n",
    "    steps=[\n",
    "        preprocessing_step,\n",
    "        tune_model_step if USE_TUNING_STEP else train_model_step,\n",
    "        evaluate_model_step,\n",
    "        condition_step,\n",
    "    ],\n",
    "    pipeline_definition_config=pipeline_definition_config,\n",
    "    sagemaker_session=config[\"session_config\"][\"session\"],\n",
    ")\n",
    "\n",
    "conditional_pipeline.upsert(role_arn=ROLE)"
   ]
  },
  {
   "cell_type": "code",
   "execution_count": 64,
   "metadata": {},
   "outputs": [
    {
     "data": {
      "text/plain": [
       "_PipelineExecution(arn='arn:aws:sagemaker:us-east-1:217145131661:pipeline/conditional-pipeline/execution/94iux4j17dqv', sagemaker_session=<sagemaker.workflow.pipeline_context.PipelineSession object at 0x10c1cba30>)"
      ]
     },
     "execution_count": 64,
     "metadata": {},
     "output_type": "execute_result"
    }
   ],
   "source": [
    "# %%script false --no-raise-error\n",
    "\n",
    "conditional_pipeline.start(\n",
    "    parameters={\n",
    "        \"accuracy_threshold\": retrieve_latest_accuracy(model_group=BASIC_MODEL_PACKAGE_GROUP),\n",
    "    }\n",
    ")"
   ]
  }
 ],
 "metadata": {
  "kernelspec": {
   "display_name": ".venv",
   "language": "python",
   "name": "python3"
  },
  "language_info": {
   "codemirror_mode": {
    "name": "ipython",
    "version": 3
   },
   "file_extension": ".py",
   "mimetype": "text/x-python",
   "name": "python",
   "nbconvert_exporter": "python",
   "pygments_lexer": "ipython3",
   "version": "3.10.14"
  }
 },
 "nbformat": 4,
 "nbformat_minor": 2
}
